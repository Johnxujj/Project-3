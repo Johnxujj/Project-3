{
 "cells": [
  {
   "cell_type": "markdown",
   "id": "d46d8c00",
   "metadata": {},
   "source": [
    "# COVID-19 Prediction of high risk of Fatality"
   ]
  },
  {
   "cell_type": "markdown",
   "id": "785c2f03",
   "metadata": {},
   "source": [
    "Jiajie Xu, 10Jan2022"
   ]
  },
  {
   "cell_type": "markdown",
   "id": "b15f700c",
   "metadata": {},
   "source": [
    "# Overview"
   ]
  },
  {
   "cell_type": "markdown",
   "id": "4a3c104c",
   "metadata": {},
   "source": [
    "## Business Problem"
   ]
  },
  {
   "cell_type": "markdown",
   "id": "7ce965ef",
   "metadata": {},
   "source": [
    "It's been two years, but countries around the world are still suffering from the Covid-19 and its varients. We are losing people's life every second. The best way to protect them is vaccination, but the vaccine supply is also influenced by the pandemic. We have got a very urgent priorites to thrash out, which is predicttion of a higher-risk population by using current patient group survey dataset. Thus, we would be able to slow down the death and spread. "
   ]
  },
  {
   "cell_type": "markdown",
   "id": "a6d11c98",
   "metadata": {},
   "source": [
    "# Data Loading and cleaning"
   ]
  },
  {
   "cell_type": "code",
   "execution_count": 2,
   "id": "102ed675",
   "metadata": {},
   "outputs": [],
   "source": [
    "import pandas as pd\n",
    "import numpy as np\n",
    "import warnings\n",
    "warnings.filterwarnings('ignore')\n",
    "import matplotlib.pyplot as plt\n",
    "import seaborn as sns\n",
    "import statsmodels as sm\n",
    "import sklearn.preprocessing as preprocessing\n",
    "from sklearn.linear_model import LogisticRegression\n",
    "from sklearn.model_selection import train_test_split, KFold\n",
    "from scipy import stats\n",
    "from sklearn.metrics import classification_report\n",
    "from sklearn.tree import DecisionTreeClassifier\n",
    "from sklearn.preprocessing import LabelEncoder\n",
    "from sklearn.metrics import accuracy_score, plot_roc_curve, plot_confusion_matrix\n",
    "from sklearn.datasets import load_iris\n",
    "# For plotting the tree.\n",
    "from sklearn.tree import export_graphviz, plot_tree\n",
    "# from pydotplus import graph_from_dot_data\n",
    "from IPython.display import Image\n",
    "from sklearn import metrics\n",
    "from sklearn.neighbors import KNeighborsClassifier\n",
    "from sklearn.ensemble import GradientBoostingClassifier\n",
    "from sklearn.naive_bayes import GaussianNB\n",
    "from sklearn.multiclass import OneVsRestClassifier\n",
    "from sklearn.metrics import f1_score, confusion_matrix, recall_score, precision_score, accuracy_score\n",
    "from sklearn import datasets\n",
    "from sklearn.preprocessing import StandardScaler, MinMaxScaler, LabelEncoder\n",
    "from sklearn.neighbors import KNeighborsClassifier, NearestNeighbors"
   ]
  },
  {
   "cell_type": "code",
   "execution_count": 3,
   "id": "bf6a4c74",
   "metadata": {},
   "outputs": [
    {
     "name": "stdout",
     "output_type": "stream",
     "text": [
      " Volume in drive D is New Volume\n",
      " Volume Serial Number is C649-A6AD\n",
      "\n",
      " Directory of D:\\Flatiron\\Project3\n",
      "\n",
      "01/11/2022  11:53 PM    <DIR>          .\n",
      "12/11/2021  05:55 PM    <DIR>          ..\n",
      "01/10/2022  05:43 AM    <DIR>          .ipynb_checkpoints\n",
      "01/09/2022  08:27 PM            81,806 Catalogs.xlsx\n",
      "12/11/2021  05:56 PM        46,684,628 covid.csv\n",
      "01/09/2022  08:26 PM            14,571 Description.xlsx\n",
      "01/11/2022  11:53 PM           241,758 project3.ipynb\n",
      "               4 File(s)     47,022,763 bytes\n",
      "               3 Dir(s)  1,564,199,444,480 bytes free\n"
     ]
    }
   ],
   "source": [
    "ls"
   ]
  },
  {
   "cell_type": "code",
   "execution_count": 4,
   "id": "64ef5a9c",
   "metadata": {},
   "outputs": [],
   "source": [
    "df = pd.read_csv('covid.csv')"
   ]
  },
  {
   "cell_type": "code",
   "execution_count": 5,
   "id": "34fcf64c",
   "metadata": {},
   "outputs": [
    {
     "name": "stdout",
     "output_type": "stream",
     "text": [
      "<class 'pandas.core.frame.DataFrame'>\n",
      "RangeIndex: 566602 entries, 0 to 566601\n",
      "Data columns (total 23 columns):\n",
      " #   Column               Non-Null Count   Dtype \n",
      "---  ------               --------------   ----- \n",
      " 0   id                   566602 non-null  object\n",
      " 1   sex                  566602 non-null  int64 \n",
      " 2   patient_type         566602 non-null  int64 \n",
      " 3   entry_date           566602 non-null  object\n",
      " 4   date_symptoms        566602 non-null  object\n",
      " 5   date_died            566602 non-null  object\n",
      " 6   intubed              566602 non-null  int64 \n",
      " 7   pneumonia            566602 non-null  int64 \n",
      " 8   age                  566602 non-null  int64 \n",
      " 9   pregnancy            566602 non-null  int64 \n",
      " 10  diabetes             566602 non-null  int64 \n",
      " 11  copd                 566602 non-null  int64 \n",
      " 12  asthma               566602 non-null  int64 \n",
      " 13  inmsupr              566602 non-null  int64 \n",
      " 14  hypertension         566602 non-null  int64 \n",
      " 15  other_disease        566602 non-null  int64 \n",
      " 16  cardiovascular       566602 non-null  int64 \n",
      " 17  obesity              566602 non-null  int64 \n",
      " 18  renal_chronic        566602 non-null  int64 \n",
      " 19  tobacco              566602 non-null  int64 \n",
      " 20  contact_other_covid  566602 non-null  int64 \n",
      " 21  covid_res            566602 non-null  int64 \n",
      " 22  icu                  566602 non-null  int64 \n",
      "dtypes: int64(19), object(4)\n",
      "memory usage: 99.4+ MB\n"
     ]
    }
   ],
   "source": [
    "df.info()"
   ]
  },
  {
   "cell_type": "code",
   "execution_count": 6,
   "id": "3c2d306b",
   "metadata": {},
   "outputs": [],
   "source": [
    "# for c in df.columns:\n",
    "#     print (\"---- %s ---\" % c)\n",
    "#     print (df[c].value_counts())\n",
    "# df.head()"
   ]
  },
  {
   "cell_type": "markdown",
   "id": "2b059dc6",
   "metadata": {},
   "source": [
    "## entry_date\tdate_symptoms\tdate_died"
   ]
  },
  {
   "cell_type": "markdown",
   "id": "e677ced6",
   "metadata": {},
   "source": [
    "Use Entry_date minus date_symptoms to get the time length for patient covid-19 develop speed."
   ]
  },
  {
   "cell_type": "code",
   "execution_count": 7,
   "id": "1d483ff8",
   "metadata": {},
   "outputs": [],
   "source": [
    "df['date_symptoms'] = pd.to_datetime(df['date_symptoms'], format='%d-%m-%Y')\n",
    "df['entry_date'] = pd.to_datetime(df['entry_date'], format='%d-%m-%Y')\n",
    "df['date_Difference'] = (df['entry_date'] - df['date_symptoms']).dt.days"
   ]
  },
  {
   "cell_type": "code",
   "execution_count": 8,
   "id": "1ee54072",
   "metadata": {},
   "outputs": [],
   "source": [
    "df.loc[df['date_died'] == '9999-99-99', 'date_died'] = 0"
   ]
  },
  {
   "cell_type": "code",
   "execution_count": 9,
   "id": "b4747e35",
   "metadata": {},
   "outputs": [],
   "source": [
    "df.loc[df['date_died'] != 0, 'date_died'] = 1"
   ]
  },
  {
   "cell_type": "code",
   "execution_count": 10,
   "id": "b6d8c6e3",
   "metadata": {},
   "outputs": [
    {
     "data": {
      "text/plain": [
       "0    0.936153\n",
       "1    0.063847\n",
       "Name: date_died, dtype: float64"
      ]
     },
     "execution_count": 10,
     "metadata": {},
     "output_type": "execute_result"
    }
   ],
   "source": [
    "df['date_died'].value_counts(normalize = True)"
   ]
  },
  {
   "cell_type": "code",
   "execution_count": 11,
   "id": "153bd750",
   "metadata": {},
   "outputs": [],
   "source": [
    "df = df.rename(columns={\"date_died\": \"survive\"})"
   ]
  },
  {
   "cell_type": "code",
   "execution_count": 12,
   "id": "8a950ef0",
   "metadata": {},
   "outputs": [
    {
     "data": {
      "text/plain": [
       "0    530426\n",
       "1     36176\n",
       "Name: survive, dtype: int64"
      ]
     },
     "execution_count": 12,
     "metadata": {},
     "output_type": "execute_result"
    }
   ],
   "source": [
    "df['survive'].value_counts()"
   ]
  },
  {
   "cell_type": "code",
   "execution_count": 13,
   "id": "ca0b5a1b",
   "metadata": {},
   "outputs": [],
   "source": [
    "df['survive'] = df['survive'].astype(int)"
   ]
  },
  {
   "cell_type": "markdown",
   "id": "3eeef562",
   "metadata": {},
   "source": [
    "## Sex"
   ]
  },
  {
   "cell_type": "code",
   "execution_count": 14,
   "id": "5e9ada42",
   "metadata": {},
   "outputs": [
    {
     "data": {
      "image/png": "[encoded data removed]",
      "text/plain": [
       "<Figure size 432x288 with 1 Axes>"
      ]
     },
     "metadata": {
      "needs_background": "light"
     },
     "output_type": "display_data"
    }
   ],
   "source": [
    "df[\"sex\"].value_counts().plot.bar()\n",
    "# Docs says that sex == 1 means male, but then some males are pregnant and no females are pregnant. \n",
    "# Also, all pregnancy data for sex == 2 is NaN, so it seems that sex should be switched, as opposed to pregnant column.\n",
    "df.sex = df.sex.replace([1,2], [2, 1])"
   ]
  },
  {
   "cell_type": "code",
   "execution_count": 15,
   "id": "64614e96",
   "metadata": {},
   "outputs": [
    {
     "data": {
      "text/plain": [
       "0    91.822007\n",
       "1     8.177993\n",
       "Name: survive, dtype: float64"
      ]
     },
     "execution_count": 15,
     "metadata": {},
     "output_type": "execute_result"
    }
   ],
   "source": [
    "(df[df['sex'] == 1]['survive'].value_counts()/df[df['sex'] == 1]['survive'].count())*100"
   ]
  },
  {
   "cell_type": "code",
   "execution_count": 16,
   "id": "a08b7ccb",
   "metadata": {},
   "outputs": [
    {
     "data": {
      "text/plain": [
       "0    95.45744\n",
       "1     4.54256\n",
       "Name: survive, dtype: float64"
      ]
     },
     "execution_count": 16,
     "metadata": {},
     "output_type": "execute_result"
    }
   ],
   "source": [
    "(df[df['sex'] == 2]['survive'].value_counts()/df[df['sex'] == 2]['survive'].count())*100"
   ]
  },
  {
   "cell_type": "markdown",
   "id": "6b45fb3c",
   "metadata": {},
   "source": [
    "There is a difference between male and female patient, so we will keep this feature."
   ]
  },
  {
   "cell_type": "markdown",
   "id": "8b68d377",
   "metadata": {},
   "source": [
    "## Age"
   ]
  },
  {
   "cell_type": "code",
   "execution_count": 17,
   "id": "5108fbc7",
   "metadata": {},
   "outputs": [
    {
     "data": {
      "text/plain": [
       "Text(22.248996913580257, 0.5, 'count')"
      ]
     },
     "execution_count": 17,
     "metadata": {},
     "output_type": "execute_result"
    },
    {
     "data": {
      "image/png": "[encoded data removed]",
      "text/plain": [
       "<Figure size 1988.5x648 with 1 Axes>"
      ]
     },
     "metadata": {
      "needs_background": "light"
     },
     "output_type": "display_data"
    }
   ],
   "source": [
    "sns.catplot('age',data=df,hue='survive',kind='count',palette='bright',aspect=3,height=9)\n",
    "plt.xlabel('age',size=30)\n",
    "plt.xticks(rotation=45)\n",
    "plt.ylabel('count',size=30)"
   ]
  },
  {
   "cell_type": "markdown",
   "id": "dcda087c",
   "metadata": {},
   "source": [
    "With the age increasing, death ratio rise. "
   ]
  },
  {
   "cell_type": "markdown",
   "id": "303fdb65",
   "metadata": {},
   "source": [
    "## Intubed"
   ]
  },
  {
   "cell_type": "markdown",
   "id": "6858dffa",
   "metadata": {},
   "source": [
    "change missing value to un-tubed. Here we set intubed as 1, untubed as 0."
   ]
  },
  {
   "cell_type": "code",
   "execution_count": 18,
   "id": "f09a09e5",
   "metadata": {},
   "outputs": [],
   "source": [
    "df[\"intubed\"].replace({97: 0, 99: 0, 2: 0}, inplace=True)"
   ]
  },
  {
   "cell_type": "code",
   "execution_count": 19,
   "id": "eea84856",
   "metadata": {},
   "outputs": [
    {
     "data": {
      "text/html": [
       "<div>\n",
       "<style scoped>\n",
       "    .dataframe tbody tr th:only-of-type {\n",
       "        vertical-align: middle;\n",
       "    }\n",
       "\n",
       "    .dataframe tbody tr th {\n",
       "        vertical-align: top;\n",
       "    }\n",
       "\n",
       "    .dataframe thead th {\n",
       "        text-align: right;\n",
       "    }\n",
       "</style>\n",
       "<table border=\"1\" class=\"dataframe\">\n",
       "  <thead>\n",
       "    <tr style=\"text-align: right;\">\n",
       "      <th></th>\n",
       "      <th>intubed</th>\n",
       "    </tr>\n",
       "  </thead>\n",
       "  <tbody>\n",
       "    <tr>\n",
       "      <th>0</th>\n",
       "      <td>556637</td>\n",
       "    </tr>\n",
       "    <tr>\n",
       "      <th>1</th>\n",
       "      <td>9965</td>\n",
       "    </tr>\n",
       "  </tbody>\n",
       "</table>\n",
       "</div>"
      ],
      "text/plain": [
       "   intubed\n",
       "0   556637\n",
       "1     9965"
      ]
     },
     "execution_count": 19,
     "metadata": {},
     "output_type": "execute_result"
    }
   ],
   "source": [
    "df['intubed'].value_counts().to_frame()"
   ]
  },
  {
   "cell_type": "markdown",
   "id": "d5f8dd48",
   "metadata": {},
   "source": [
    "## Pregnancy"
   ]
  },
  {
   "cell_type": "code",
   "execution_count": 20,
   "id": "097287d9",
   "metadata": {},
   "outputs": [
    {
     "data": {
      "text/html": [
       "<div>\n",
       "<style scoped>\n",
       "    .dataframe tbody tr th:only-of-type {\n",
       "        vertical-align: middle;\n",
       "    }\n",
       "\n",
       "    .dataframe tbody tr th {\n",
       "        vertical-align: top;\n",
       "    }\n",
       "\n",
       "    .dataframe thead th {\n",
       "        text-align: right;\n",
       "    }\n",
       "</style>\n",
       "<table border=\"1\" class=\"dataframe\">\n",
       "  <thead>\n",
       "    <tr style=\"text-align: right;\">\n",
       "      <th></th>\n",
       "      <th>pregnancy</th>\n",
       "    </tr>\n",
       "  </thead>\n",
       "  <tbody>\n",
       "    <tr>\n",
       "      <th>0</th>\n",
       "      <td>562539</td>\n",
       "    </tr>\n",
       "    <tr>\n",
       "      <th>1</th>\n",
       "      <td>4063</td>\n",
       "    </tr>\n",
       "  </tbody>\n",
       "</table>\n",
       "</div>"
      ],
      "text/plain": [
       "   pregnancy\n",
       "0     562539\n",
       "1       4063"
      ]
     },
     "execution_count": 20,
     "metadata": {},
     "output_type": "execute_result"
    }
   ],
   "source": [
    "# change missing value to 0, and set original data as binary.\n",
    "df[\"pregnancy\"].replace({97: 0, 98: 0, 2: 0}, inplace=True)\n",
    "df['pregnancy'].value_counts().to_frame()"
   ]
  },
  {
   "cell_type": "markdown",
   "id": "52fab7e5",
   "metadata": {},
   "source": [
    "## contact_other_covid"
   ]
  },
  {
   "cell_type": "code",
   "execution_count": 21,
   "id": "d646f8bd",
   "metadata": {},
   "outputs": [
    {
     "data": {
      "text/plain": [
       "1     221867\n",
       "99    175031\n",
       "2     169704\n",
       "Name: contact_other_covid, dtype: int64"
      ]
     },
     "execution_count": 21,
     "metadata": {},
     "output_type": "execute_result"
    }
   ],
   "source": [
    "df['contact_other_covid'].value_counts()"
   ]
  },
  {
   "cell_type": "code",
   "execution_count": 22,
   "id": "034f306e",
   "metadata": {},
   "outputs": [],
   "source": [
    "# This is a catagorical column, we need to change it to three column. \n",
    "df[\"contact_other_covid\"].replace({99: 3}, inplace=True)\n",
    "df = pd.get_dummies(df, columns=['contact_other_covid'])"
   ]
  },
  {
   "cell_type": "markdown",
   "id": "c947cab6",
   "metadata": {},
   "source": [
    "## ICU"
   ]
  },
  {
   "cell_type": "code",
   "execution_count": 23,
   "id": "5cc0fdbd",
   "metadata": {},
   "outputs": [],
   "source": [
    "df['icu'].value_counts()\n",
    "# This is a catagorical column, we need to change it to three column.\n",
    "# First need to change unspecified value to 3\n",
    "df[\"icu\"].replace({97: 3, 99: 3}, inplace=True)\n",
    "# df.info()\n",
    "# Second need to change feature to 3 columns\n",
    "df[\"icu\"].replace({99: 3}, inplace=True)\n",
    "df = pd.get_dummies(df, columns=['icu'])"
   ]
  },
  {
   "cell_type": "markdown",
   "id": "0cc6460d",
   "metadata": {},
   "source": [
    "## Covid_res"
   ]
  },
  {
   "cell_type": "code",
   "execution_count": 24,
   "id": "f86568b3",
   "metadata": {},
   "outputs": [],
   "source": [
    "df['covid_res'].value_counts()\n",
    "# This is a catagorical column, we need to change it to three column.\n",
    "df = pd.get_dummies(df, columns=['covid_res'])"
   ]
  },
  {
   "cell_type": "markdown",
   "id": "58f049b6",
   "metadata": {},
   "source": [
    "## Remove rest missing value row"
   ]
  },
  {
   "cell_type": "code",
   "execution_count": 25,
   "id": "03eb6da1",
   "metadata": {},
   "outputs": [],
   "source": [
    "# #drop any rows that have missing value in the following columns\n",
    "df = df[\n",
    "      (df.pneumonia != 99) &\n",
    "      (df.diabetes != 98) &\n",
    "      (df.copd != 98) &\n",
    "      (df.asthma != 98) &\n",
    "      (df.inmsupr != 98) &\n",
    "      (df.hypertension != 98) &\n",
    "      (df.other_disease != 98) &\n",
    "      (df.cardiovascular != 98) &\n",
    "      (df.obesity != 98) &\n",
    "      (df.renal_chronic != 98) &\n",
    "      (df.tobacco != 98)]"
   ]
  },
  {
   "cell_type": "code",
   "execution_count": 26,
   "id": "676dd4bb",
   "metadata": {},
   "outputs": [
    {
     "name": "stdout",
     "output_type": "stream",
     "text": [
      "<class 'pandas.core.frame.DataFrame'>\n",
      "Int64Index: 562647 entries, 0 to 566601\n",
      "Data columns (total 30 columns):\n",
      " #   Column                 Non-Null Count   Dtype         \n",
      "---  ------                 --------------   -----         \n",
      " 0   id                     562647 non-null  object        \n",
      " 1   sex                    562647 non-null  int64         \n",
      " 2   patient_type           562647 non-null  int64         \n",
      " 3   entry_date             562647 non-null  datetime64[ns]\n",
      " 4   date_symptoms          562647 non-null  datetime64[ns]\n",
      " 5   survive                562647 non-null  int32         \n",
      " 6   intubed                562647 non-null  int64         \n",
      " 7   pneumonia              562647 non-null  int64         \n",
      " 8   age                    562647 non-null  int64         \n",
      " 9   pregnancy              562647 non-null  int64         \n",
      " 10  diabetes               562647 non-null  int64         \n",
      " 11  copd                   562647 non-null  int64         \n",
      " 12  asthma                 562647 non-null  int64         \n",
      " 13  inmsupr                562647 non-null  int64         \n",
      " 14  hypertension           562647 non-null  int64         \n",
      " 15  other_disease          562647 non-null  int64         \n",
      " 16  cardiovascular         562647 non-null  int64         \n",
      " 17  obesity                562647 non-null  int64         \n",
      " 18  renal_chronic          562647 non-null  int64         \n",
      " 19  tobacco                562647 non-null  int64         \n",
      " 20  date_Difference        562647 non-null  int64         \n",
      " 21  contact_other_covid_1  562647 non-null  uint8         \n",
      " 22  contact_other_covid_2  562647 non-null  uint8         \n",
      " 23  contact_other_covid_3  562647 non-null  uint8         \n",
      " 24  icu_1                  562647 non-null  uint8         \n",
      " 25  icu_2                  562647 non-null  uint8         \n",
      " 26  icu_3                  562647 non-null  uint8         \n",
      " 27  covid_res_1            562647 non-null  uint8         \n",
      " 28  covid_res_2            562647 non-null  uint8         \n",
      " 29  covid_res_3            562647 non-null  uint8         \n",
      "dtypes: datetime64[ns](2), int32(1), int64(17), object(1), uint8(9)\n",
      "memory usage: 97.1+ MB\n"
     ]
    }
   ],
   "source": [
    "df.info()"
   ]
  },
  {
   "cell_type": "markdown",
   "id": "38fe4d6f",
   "metadata": {},
   "source": [
    "## Drop less important value"
   ]
  },
  {
   "cell_type": "code",
   "execution_count": 27,
   "id": "f52d8075",
   "metadata": {},
   "outputs": [],
   "source": [
    "df = df.drop(['id', 'entry_date', 'date_symptoms'], axis=1)\n",
    "# df = df.drop(['id', 'entry_date', 'date_symptoms', 'other_disease' , 'icu', 'cardiovascular', 'copd', 'renal_chronic', 'inmsupr', 'asthma', 'pregnancy', 'patient_type'], axis=1)\n"
   ]
  },
  {
   "cell_type": "code",
   "execution_count": 28,
   "id": "ae67fd87",
   "metadata": {},
   "outputs": [],
   "source": [
    "# Base on the later feature importance, we want to drop column importance less than 2 in order to reduce the calculation cost.\n",
    "df = df.drop([\n",
    "\"cardiovascular\", \n",
    "\"copd\", \n",
    "\"renal_chronic\", \n",
    "\"inmsupr\", \n",
    "\"asthma\", \n",
    "\"icu_1\", \n",
    "\"icu_2\", \n",
    "\"contact_other_covid_2\", \n",
    "\"contact_other_covid_1\", \n",
    "\"covid_res_2\", \n",
    "\"covid_res_3\", \n",
    "\"pregnancy\", \n",
    "\"icu_3\",\n",
    "\"other_disease\"],\n",
    "axis=1)"
   ]
  },
  {
   "cell_type": "code",
   "execution_count": 29,
   "id": "655614d0",
   "metadata": {},
   "outputs": [],
   "source": [
    "# df.info()"
   ]
  },
  {
   "cell_type": "code",
   "execution_count": 30,
   "id": "d01be567",
   "metadata": {},
   "outputs": [
    {
     "data": {
      "text/plain": [
       "sex                      0\n",
       "patient_type             0\n",
       "survive                  0\n",
       "intubed                  0\n",
       "pneumonia                0\n",
       "age                      0\n",
       "diabetes                 0\n",
       "hypertension             0\n",
       "obesity                  0\n",
       "tobacco                  0\n",
       "date_Difference          0\n",
       "contact_other_covid_3    0\n",
       "covid_res_1              0\n",
       "dtype: int64"
      ]
     },
     "execution_count": 30,
     "metadata": {},
     "output_type": "execute_result"
    }
   ],
   "source": [
    "df.isna().sum() "
   ]
  },
  {
   "cell_type": "code",
   "execution_count": 31,
   "id": "5bb6b5be",
   "metadata": {},
   "outputs": [
    {
     "data": {
      "text/plain": [
       "Text(0.5, 1.0, 'Correlation heatmap')"
      ]
     },
     "execution_count": 31,
     "metadata": {},
     "output_type": "execute_result"
    },
    {
     "data": {
      "image/png": "[encoded data removed]",
      "text/plain": [
       "<Figure size 1080x1080 with 2 Axes>"
      ]
     },
     "metadata": {
      "needs_background": "light"
     },
     "output_type": "display_data"
    }
   ],
   "source": [
    "plt.figure(figsize=(15,15))\n",
    "sns.heatmap(df.corr(),cmap='viridis')\n",
    "plt.title('Correlation heatmap',size=25)"
   ]
  },
  {
   "cell_type": "code",
   "execution_count": 37,
   "id": "c488c1eb",
   "metadata": {},
   "outputs": [],
   "source": [
    "# change value (1,2) to (0,1), set original data as binary.\n",
    "df[\"patient_type\"].replace({2: 0}, inplace=True)\n",
    "df[\"pneumonia\"].replace({1:0, 2: 1}, inplace=True)\n",
    "df[\"diabetes\"].replace({1:0, 2: 1}, inplace=True)\n",
    "df[\"hypertension\"].replace({1:0, 2: 1}, inplace=True)\n",
    "df[\"obesity\"].replace({1:0, 2: 1}, inplace=True)\n",
    "df[\"tobacco\"].replace({1:0, 2: 1}, inplace=True)\n",
    "df[\"patient_type\"].replace({2: 0}, inplace=True)\n",
    "# df['patient_type'].value_counts().to_frame()"
   ]
  },
  {
   "cell_type": "code",
   "execution_count": 38,
   "id": "59dee68a",
   "metadata": {},
   "outputs": [
    {
     "name": "stdout",
     "output_type": "stream",
     "text": [
      "---- sex ---\n",
      "1    284820\n",
      "2    277827\n",
      "Name: sex, dtype: int64\n",
      "---- patient_type ---\n",
      "1    442343\n",
      "0    120304\n",
      "Name: patient_type, dtype: int64\n",
      "---- survive ---\n",
      "0    527057\n",
      "1     35590\n",
      "Name: survive, dtype: int64\n",
      "---- intubed ---\n",
      "0    553020\n",
      "1      9627\n",
      "Name: intubed, dtype: int64\n",
      "---- pneumonia ---\n",
      "0    562647\n",
      "Name: pneumonia, dtype: int64\n",
      "---- age ---\n",
      "30     14536\n",
      "31     13847\n",
      "36     13835\n",
      "37     13772\n",
      "38     13751\n",
      "       ...  \n",
      "118        1\n",
      "115        1\n",
      "117        1\n",
      "116        1\n",
      "105        1\n",
      "Name: age, Length: 120, dtype: int64\n",
      "---- diabetes ---\n",
      "1    492328\n",
      "0     70319\n",
      "Name: diabetes, dtype: int64\n",
      "---- hypertension ---\n",
      "1    470744\n",
      "0     91903\n",
      "Name: hypertension, dtype: int64\n",
      "---- obesity ---\n",
      "1    471029\n",
      "0     91618\n",
      "Name: obesity, dtype: int64\n",
      "---- tobacco ---\n",
      "1    514907\n",
      "0     47740\n",
      "Name: tobacco, dtype: int64\n",
      "---- date_Difference ---\n",
      "0      89940\n",
      "3      79673\n",
      "2      78057\n",
      "1      69256\n",
      "4      65524\n",
      "       ...  \n",
      "65         1\n",
      "58         1\n",
      "60         1\n",
      "61         1\n",
      "115        1\n",
      "Name: date_Difference, Length: 61, dtype: int64\n",
      "---- contact_other_covid_3 ---\n",
      "0    388855\n",
      "1    173792\n",
      "Name: contact_other_covid_3, dtype: int64\n",
      "---- covid_res_1 ---\n",
      "0    343745\n",
      "1    218902\n",
      "Name: covid_res_1, dtype: int64\n"
     ]
    },
    {
     "data": {
      "text/html": [
       "<div>\n",
       "<style scoped>\n",
       "    .dataframe tbody tr th:only-of-type {\n",
       "        vertical-align: middle;\n",
       "    }\n",
       "\n",
       "    .dataframe tbody tr th {\n",
       "        vertical-align: top;\n",
       "    }\n",
       "\n",
       "    .dataframe thead th {\n",
       "        text-align: right;\n",
       "    }\n",
       "</style>\n",
       "<table border=\"1\" class=\"dataframe\">\n",
       "  <thead>\n",
       "    <tr style=\"text-align: right;\">\n",
       "      <th></th>\n",
       "      <th>sex</th>\n",
       "      <th>patient_type</th>\n",
       "      <th>survive</th>\n",
       "      <th>intubed</th>\n",
       "      <th>pneumonia</th>\n",
       "      <th>age</th>\n",
       "      <th>diabetes</th>\n",
       "      <th>hypertension</th>\n",
       "      <th>obesity</th>\n",
       "      <th>tobacco</th>\n",
       "      <th>date_Difference</th>\n",
       "      <th>contact_other_covid_3</th>\n",
       "      <th>covid_res_1</th>\n",
       "    </tr>\n",
       "  </thead>\n",
       "  <tbody>\n",
       "    <tr>\n",
       "      <th>0</th>\n",
       "      <td>1</td>\n",
       "      <td>1</td>\n",
       "      <td>0</td>\n",
       "      <td>0</td>\n",
       "      <td>0</td>\n",
       "      <td>27</td>\n",
       "      <td>1</td>\n",
       "      <td>1</td>\n",
       "      <td>1</td>\n",
       "      <td>1</td>\n",
       "      <td>2</td>\n",
       "      <td>0</td>\n",
       "      <td>1</td>\n",
       "    </tr>\n",
       "    <tr>\n",
       "      <th>1</th>\n",
       "      <td>1</td>\n",
       "      <td>1</td>\n",
       "      <td>0</td>\n",
       "      <td>0</td>\n",
       "      <td>0</td>\n",
       "      <td>24</td>\n",
       "      <td>1</td>\n",
       "      <td>1</td>\n",
       "      <td>1</td>\n",
       "      <td>1</td>\n",
       "      <td>2</td>\n",
       "      <td>1</td>\n",
       "      <td>1</td>\n",
       "    </tr>\n",
       "    <tr>\n",
       "      <th>2</th>\n",
       "      <td>2</td>\n",
       "      <td>0</td>\n",
       "      <td>0</td>\n",
       "      <td>0</td>\n",
       "      <td>0</td>\n",
       "      <td>54</td>\n",
       "      <td>1</td>\n",
       "      <td>1</td>\n",
       "      <td>0</td>\n",
       "      <td>1</td>\n",
       "      <td>5</td>\n",
       "      <td>1</td>\n",
       "      <td>1</td>\n",
       "    </tr>\n",
       "    <tr>\n",
       "      <th>3</th>\n",
       "      <td>1</td>\n",
       "      <td>0</td>\n",
       "      <td>0</td>\n",
       "      <td>0</td>\n",
       "      <td>0</td>\n",
       "      <td>30</td>\n",
       "      <td>1</td>\n",
       "      <td>1</td>\n",
       "      <td>1</td>\n",
       "      <td>1</td>\n",
       "      <td>7</td>\n",
       "      <td>1</td>\n",
       "      <td>1</td>\n",
       "    </tr>\n",
       "    <tr>\n",
       "      <th>4</th>\n",
       "      <td>2</td>\n",
       "      <td>0</td>\n",
       "      <td>1</td>\n",
       "      <td>0</td>\n",
       "      <td>0</td>\n",
       "      <td>60</td>\n",
       "      <td>0</td>\n",
       "      <td>0</td>\n",
       "      <td>1</td>\n",
       "      <td>1</td>\n",
       "      <td>0</td>\n",
       "      <td>1</td>\n",
       "      <td>1</td>\n",
       "    </tr>\n",
       "  </tbody>\n",
       "</table>\n",
       "</div>"
      ],
      "text/plain": [
       "   sex  patient_type  survive  intubed  pneumonia  age  diabetes  \\\n",
       "0    1             1        0        0          0   27         1   \n",
       "1    1             1        0        0          0   24         1   \n",
       "2    2             0        0        0          0   54         1   \n",
       "3    1             0        0        0          0   30         1   \n",
       "4    2             0        1        0          0   60         0   \n",
       "\n",
       "   hypertension  obesity  tobacco  date_Difference  contact_other_covid_3  \\\n",
       "0             1        1        1                2                      0   \n",
       "1             1        1        1                2                      1   \n",
       "2             1        0        1                5                      1   \n",
       "3             1        1        1                7                      1   \n",
       "4             0        1        1                0                      1   \n",
       "\n",
       "   covid_res_1  \n",
       "0            1  \n",
       "1            1  \n",
       "2            1  \n",
       "3            1  \n",
       "4            1  "
      ]
     },
     "execution_count": 38,
     "metadata": {},
     "output_type": "execute_result"
    }
   ],
   "source": [
    "for c in df.columns:\n",
    "    print (\"---- %s ---\" % c)\n",
    "    print (df[c].value_counts())\n",
    "df.head()"
   ]
  },
  {
   "cell_type": "markdown",
   "id": "b6c29585",
   "metadata": {},
   "source": [
    "# Training the model using different algorithms"
   ]
  },
  {
   "cell_type": "markdown",
   "id": "df6e3515",
   "metadata": {},
   "source": [
    "## Data split into train set and test set"
   ]
  },
  {
   "cell_type": "code",
   "execution_count": 32,
   "id": "b54db77f",
   "metadata": {},
   "outputs": [],
   "source": [
    "y = df['survive']\n",
    "X = df.drop(['survive'], axis=1)\n",
    "X_train, X_test, y_train, y_test = train_test_split(X, y, stratify = y, random_state=0)"
   ]
  },
  {
   "cell_type": "code",
   "execution_count": 33,
   "id": "a8b02140",
   "metadata": {},
   "outputs": [
    {
     "name": "stdout",
     "output_type": "stream",
     "text": [
      "(421985, 12) (140662, 12) (421985,) (140662,)\n"
     ]
    }
   ],
   "source": [
    "print(X_train.shape, X_test.shape, y_train.shape, y_test.shape)"
   ]
  },
  {
   "cell_type": "code",
   "execution_count": 34,
   "id": "33515afc",
   "metadata": {},
   "outputs": [],
   "source": [
    "acc=[]"
   ]
  },
  {
   "cell_type": "code",
   "execution_count": 35,
   "id": "add904b3",
   "metadata": {},
   "outputs": [],
   "source": [
    "f1=[]"
   ]
  },
  {
   "cell_type": "code",
   "execution_count": 36,
   "id": "a662a6e0",
   "metadata": {},
   "outputs": [],
   "source": [
    "recall=[]"
   ]
  },
  {
   "cell_type": "code",
   "execution_count": 37,
   "id": "357bfc82",
   "metadata": {},
   "outputs": [],
   "source": [
    "precision=[]"
   ]
  },
  {
   "cell_type": "code",
   "execution_count": 38,
   "id": "cf52db9a",
   "metadata": {},
   "outputs": [],
   "source": [
    "avg=[]"
   ]
  },
  {
   "cell_type": "markdown",
   "id": "7503cc1b",
   "metadata": {},
   "source": [
    "## Logistic Regression Model"
   ]
  },
  {
   "cell_type": "markdown",
   "id": "2be45268",
   "metadata": {},
   "source": [
    "### Train the Model"
   ]
  },
  {
   "cell_type": "code",
   "execution_count": 39,
   "id": "22eef365",
   "metadata": {},
   "outputs": [],
   "source": [
    "logreg = LogisticRegression(random_state = 20, class_weight = 'balanced')"
   ]
  },
  {
   "cell_type": "code",
   "execution_count": 40,
   "id": "342381ec",
   "metadata": {},
   "outputs": [
    {
     "data": {
      "text/plain": [
       "LogisticRegression(class_weight='balanced', random_state=20)"
      ]
     },
     "execution_count": 40,
     "metadata": {},
     "output_type": "execute_result"
    }
   ],
   "source": [
    "logreg.fit(X_train, y_train)"
   ]
  },
  {
   "cell_type": "markdown",
   "id": "7b8c08ad",
   "metadata": {},
   "source": [
    "### Predictions and Evaluation\n",
    "Now that we have a model, lets take a look at how it performs. "
   ]
  },
  {
   "cell_type": "code",
   "execution_count": 41,
   "id": "e85859a4",
   "metadata": {},
   "outputs": [
    {
     "name": "stdout",
     "output_type": "stream",
     "text": [
      "              precision    recall  f1-score   support\n",
      "\n",
      "           0       0.99      0.87      0.93    395293\n",
      "           1       0.32      0.91      0.47     26692\n",
      "\n",
      "    accuracy                           0.87    421985\n",
      "   macro avg       0.66      0.89      0.70    421985\n",
      "weighted avg       0.95      0.87      0.90    421985\n",
      "\n"
     ]
    }
   ],
   "source": [
    "y_hat_test = logreg.predict(X_test)\n",
    "y_hat_train = logreg.predict(X_train)\n",
    "print(classification_report(y_train, y_hat_train))"
   ]
  },
  {
   "cell_type": "code",
   "execution_count": 42,
   "id": "23c822ca",
   "metadata": {},
   "outputs": [
    {
     "name": "stdout",
     "output_type": "stream",
     "text": [
      "              precision    recall  f1-score   support\n",
      "\n",
      "           0       0.99      0.87      0.93    131764\n",
      "           1       0.32      0.91      0.48      8898\n",
      "\n",
      "    accuracy                           0.87    140662\n",
      "   macro avg       0.66      0.89      0.70    140662\n",
      "weighted avg       0.95      0.87      0.90    140662\n",
      "\n"
     ]
    }
   ],
   "source": [
    "print(classification_report(y_test, y_hat_test))"
   ]
  },
  {
   "cell_type": "code",
   "execution_count": 43,
   "id": "fbd4c09b",
   "metadata": {},
   "outputs": [],
   "source": [
    "score_accuracy = accuracy_score(y_test,y_hat_test)\n",
    "score_f1 = f1_score(y_test, y_hat_test)\n",
    "score_recall = recall_score(y_test, y_hat_test)\n",
    "score_precision = precision_score(y_test, y_hat_test)\n",
    "score = (score_f1+score_accuracy)/2\n",
    "acc.append(score_accuracy)\n",
    "f1.append(score_f1)\n",
    "recall.append(score_recall)\n",
    "precision.append(score_precision)\n",
    "avg.append(score)\n",
    "# print('Test Accuracy Score', score)"
   ]
  },
  {
   "cell_type": "markdown",
   "id": "67fd4a51",
   "metadata": {},
   "source": [
    "##  Naive_bayes Model"
   ]
  },
  {
   "cell_type": "markdown",
   "id": "072c3bef",
   "metadata": {},
   "source": [
    "### Train the Model"
   ]
  },
  {
   "cell_type": "code",
   "execution_count": 45,
   "id": "55293657",
   "metadata": {},
   "outputs": [
    {
     "data": {
      "text/plain": [
       "GaussianNB()"
      ]
     },
     "execution_count": 45,
     "metadata": {},
     "output_type": "execute_result"
    }
   ],
   "source": [
    "gnb = GaussianNB()\n",
    "gnb.fit(X_train, y_train) "
   ]
  },
  {
   "cell_type": "markdown",
   "id": "a4ab869a",
   "metadata": {},
   "source": [
    "### Predictions and Evaluation"
   ]
  },
  {
   "cell_type": "code",
   "execution_count": 46,
   "id": "2e81e20f",
   "metadata": {},
   "outputs": [
    {
     "name": "stdout",
     "output_type": "stream",
     "text": [
      "GNB's Accuracy:0.9036342437900784\n"
     ]
    }
   ],
   "source": [
    "yhat = gnb.predict(X_test)\n",
    "gnb_score=metrics.accuracy_score(y_test, yhat)\n",
    "print(\"GNB's Accuracy:{0}\".format(metrics.accuracy_score(y_test, yhat)))"
   ]
  },
  {
   "cell_type": "code",
   "execution_count": 47,
   "id": "f89c9f3a",
   "metadata": {},
   "outputs": [],
   "source": [
    "score_accuracy = accuracy_score(y_test,yhat)\n",
    "score_f1 = f1_score(y_test, yhat)\n",
    "score_recall = recall_score(y_test, yhat)\n",
    "score_precision = precision_score(y_test, yhat)\n",
    "score = (score_f1+score_accuracy)/2\n",
    "acc.append(score_accuracy)\n",
    "f1.append(score_f1)\n",
    "recall.append(score_recall)\n",
    "precision.append(score_precision)\n",
    "avg.append(score)"
   ]
  },
  {
   "cell_type": "code",
   "execution_count": 80,
   "id": "42be40fa",
   "metadata": {},
   "outputs": [
    {
     "data": {
      "text/plain": [
       "Text(0.5, 1.0, 'Naive Bayes Metrics')"
      ]
     },
     "execution_count": 80,
     "metadata": {},
     "output_type": "execute_result"
    },
    {
     "data": {
      "image/png": "[encoded data removed]",
      "text/plain": [
       "<Figure size 432x288 with 2 Axes>"
      ]
     },
     "metadata": {
      "needs_background": "light"
     },
     "output_type": "display_data"
    }
   ],
   "source": [
    "plot_confusion_matrix(gnb, X_test, y_test)\n",
    "plt.title(\"Naive Bayes Metrics\")"
   ]
  },
  {
   "cell_type": "markdown",
   "id": "47acbabc",
   "metadata": {},
   "source": [
    "##  KNN Model"
   ]
  },
  {
   "cell_type": "markdown",
   "id": "de132d18",
   "metadata": {},
   "source": [
    "### Train the Model"
   ]
  },
  {
   "cell_type": "code",
   "execution_count": 49,
   "id": "7a8b8e29",
   "metadata": {},
   "outputs": [
    {
     "name": "stdout",
     "output_type": "stream",
     "text": [
      "Train set Accuracy at 5 is 0.952401151699705  \n",
      "Test set Accuracy at 5 is 0.9367277587408113\n",
      "\n",
      "\n",
      "Wall time: 19.6 s\n"
     ]
    }
   ],
   "source": [
    "%%time\n",
    "# list = [5, 10, 15, 20]\n",
    "# by testingfferent k, we find 15 provide better result\n",
    "list1 = [5]\n",
    "for i in list1:\n",
    "    \n",
    "    neigh=KNeighborsClassifier(n_neighbors = i, n_jobs= -1).fit(X_train, y_train)\n",
    "    yhat = neigh.predict(X_test)\n",
    "    KNN_score=metrics.accuracy_score(y_test, yhat)\n",
    "    print(\"Train set Accuracy at {} is {}  \".format(i,metrics.accuracy_score(y_train, neigh.predict(X_train))))\n",
    "    print(\"Test set Accuracy at {} is {}\".format(i,KNN_score))\n",
    "    print(\"\\n\")"
   ]
  },
  {
   "cell_type": "markdown",
   "id": "5271ff6e",
   "metadata": {},
   "source": [
    "### Predictions and Evaluation"
   ]
  },
  {
   "cell_type": "markdown",
   "id": "8861e67e",
   "metadata": {},
   "source": [
    "at n_neighbours=12 we are getting max train and test accuracy i.e, 78% and 75% respectively."
   ]
  },
  {
   "cell_type": "code",
   "execution_count": 50,
   "id": "954c4d2f",
   "metadata": {},
   "outputs": [],
   "source": [
    "score_accuracy = accuracy_score(y_test,yhat)\n",
    "score_f1 = f1_score(y_test, yhat)\n",
    "score_recall = recall_score(y_test, yhat)\n",
    "score_precision = precision_score(y_test, yhat)\n",
    "score = (score_f1+score_accuracy)/2\n",
    "acc.append(score_accuracy)\n",
    "f1.append(score_f1)\n",
    "recall.append(score_recall)\n",
    "precision.append(score_precision)\n",
    "avg.append(score)"
   ]
  },
  {
   "cell_type": "markdown",
   "id": "e6994adc",
   "metadata": {},
   "source": [
    "##  Decision Tree model with Grid Search"
   ]
  },
  {
   "cell_type": "markdown",
   "id": "da7e8fcd",
   "metadata": {},
   "source": [
    "### Train the Model"
   ]
  },
  {
   "cell_type": "code",
   "execution_count": 51,
   "id": "76fe1de4",
   "metadata": {},
   "outputs": [
    {
     "data": {
      "text/plain": [
       "DecisionTreeClassifier()"
      ]
     },
     "execution_count": 51,
     "metadata": {},
     "output_type": "execute_result"
    }
   ],
   "source": [
    "dt = DecisionTreeClassifier()\n",
    "#min_sample_leaf, the most common stopping procedure is to use a minimum count on the number on the number of training instances assigned to each leaf node.\n",
    "dt.fit(X_train, y_train)"
   ]
  },
  {
   "cell_type": "markdown",
   "id": "a70bcf02",
   "metadata": {},
   "source": [
    "### Predictions and Evaluation"
   ]
  },
  {
   "cell_type": "code",
   "execution_count": 52,
   "id": "beef4f3e",
   "metadata": {},
   "outputs": [
    {
     "data": {
      "text/plain": [
       "array([0, 0, 0, ..., 1, 0, 0])"
      ]
     },
     "execution_count": 52,
     "metadata": {},
     "output_type": "execute_result"
    }
   ],
   "source": [
    "y_pred = dt.predict(X_test)\n",
    "y_pred"
   ]
  },
  {
   "cell_type": "code",
   "execution_count": 53,
   "id": "ea5bd0f9",
   "metadata": {},
   "outputs": [
    {
     "name": "stdout",
     "output_type": "stream",
     "text": [
      "Accuracy: 0.9298815600517553\n"
     ]
    }
   ],
   "source": [
    "dt_score = accuracy_score(y_test, y_pred)\n",
    "print(\"Accuracy: {0}\".format(dt_score))"
   ]
  },
  {
   "cell_type": "markdown",
   "id": "e511b64e",
   "metadata": {},
   "source": [
    "### Introduce Grid Search to the Decosion Tree"
   ]
  },
  {
   "cell_type": "code",
   "execution_count": 54,
   "id": "3c7208fa",
   "metadata": {},
   "outputs": [
    {
     "data": {
      "text/plain": [
       "{'criterion': 'entropy', 'max_depth': 10, 'min_samples_split': 100}"
      ]
     },
     "execution_count": 54,
     "metadata": {},
     "output_type": "execute_result"
    }
   ],
   "source": [
    "from sklearn.model_selection import GridSearchCV\n",
    "\n",
    "param_grid= {\n",
    "    'criterion': ['gini', 'entropy'],\n",
    "    'max_depth': [1, 5, 10, 20, 30],\n",
    "    'min_samples_split': [1, 5, 10, 20, 40, 100]\n",
    "}\n",
    "\n",
    "\n",
    "grid_search_dt = GridSearchCV(dt, param_grid, scoring = 'f1', n_jobs = -1, cv = 3)\n",
    "grid_search_dt.fit(X_train, y_train)\n",
    "grid_search_dt.best_params_"
   ]
  },
  {
   "cell_type": "code",
   "execution_count": 55,
   "id": "db6314d0",
   "metadata": {},
   "outputs": [],
   "source": [
    "y_pred = grid_search_dt.predict(X_test)"
   ]
  },
  {
   "cell_type": "code",
   "execution_count": 56,
   "id": "b0ea1dbb",
   "metadata": {},
   "outputs": [
    {
     "data": {
      "text/plain": [
       "<sklearn.metrics._plot.confusion_matrix.ConfusionMatrixDisplay at 0x25fcabaf610>"
      ]
     },
     "execution_count": 56,
     "metadata": {},
     "output_type": "execute_result"
    },
    {
     "data": {
      "image/png": "[encoded data removed]",
      "text/plain": [
       "<Figure size 432x288 with 2 Axes>"
      ]
     },
     "metadata": {
      "needs_background": "light"
     },
     "output_type": "display_data"
    }
   ],
   "source": [
    "plot_confusion_matrix(grid_search_dt, X_test, y_test)"
   ]
  },
  {
   "cell_type": "code",
   "execution_count": 57,
   "id": "066fdd79",
   "metadata": {},
   "outputs": [],
   "source": [
    "score_accuracy = accuracy_score(y_test,y_pred)\n",
    "score_f1 = f1_score(y_test, y_pred)\n",
    "score_recall = recall_score(y_test, y_pred)\n",
    "score_precision = precision_score(y_test, y_pred)\n",
    "score = (score_f1+score_accuracy)/2\n",
    "acc.append(score_accuracy)\n",
    "f1.append(score_f1)\n",
    "recall.append(score_recall)\n",
    "precision.append(score_precision)\n",
    "avg.append(score)"
   ]
  },
  {
   "cell_type": "markdown",
   "id": "a9fe8da7",
   "metadata": {},
   "source": [
    "### Feature Importances"
   ]
  },
  {
   "cell_type": "code",
   "execution_count": 58,
   "id": "4e76060a",
   "metadata": {},
   "outputs": [],
   "source": [
    "# let's create a dictionary of features and their importance values\n",
    "feat_dict= {}\n",
    "for col, val in sorted(zip(X_train.columns, dt.feature_importances_),key=lambda x:x[1],reverse=True):\n",
    "  feat_dict[col]=val"
   ]
  },
  {
   "cell_type": "code",
   "execution_count": 59,
   "id": "cd3a5d57",
   "metadata": {},
   "outputs": [],
   "source": [
    "feat_df = pd.DataFrame({'Feature':feat_dict.keys(),'Importance':feat_dict.values()})"
   ]
  },
  {
   "cell_type": "code",
   "execution_count": 60,
   "id": "82589b7a",
   "metadata": {},
   "outputs": [
    {
     "data": {
      "text/html": [
       "<div>\n",
       "<style scoped>\n",
       "    .dataframe tbody tr th:only-of-type {\n",
       "        vertical-align: middle;\n",
       "    }\n",
       "\n",
       "    .dataframe tbody tr th {\n",
       "        vertical-align: top;\n",
       "    }\n",
       "\n",
       "    .dataframe thead th {\n",
       "        text-align: right;\n",
       "    }\n",
       "</style>\n",
       "<table border=\"1\" class=\"dataframe\">\n",
       "  <thead>\n",
       "    <tr style=\"text-align: right;\">\n",
       "      <th></th>\n",
       "      <th>Feature</th>\n",
       "      <th>Importance</th>\n",
       "    </tr>\n",
       "  </thead>\n",
       "  <tbody>\n",
       "    <tr>\n",
       "      <th>0</th>\n",
       "      <td>patient_type</td>\n",
       "      <td>0.262392</td>\n",
       "    </tr>\n",
       "    <tr>\n",
       "      <th>1</th>\n",
       "      <td>age</td>\n",
       "      <td>0.247194</td>\n",
       "    </tr>\n",
       "    <tr>\n",
       "      <th>2</th>\n",
       "      <td>date_Difference</td>\n",
       "      <td>0.162815</td>\n",
       "    </tr>\n",
       "    <tr>\n",
       "      <th>3</th>\n",
       "      <td>covid_res_1</td>\n",
       "      <td>0.054136</td>\n",
       "    </tr>\n",
       "    <tr>\n",
       "      <th>4</th>\n",
       "      <td>hypertension</td>\n",
       "      <td>0.044811</td>\n",
       "    </tr>\n",
       "    <tr>\n",
       "      <th>5</th>\n",
       "      <td>intubed</td>\n",
       "      <td>0.038368</td>\n",
       "    </tr>\n",
       "    <tr>\n",
       "      <th>6</th>\n",
       "      <td>contact_other_covid_3</td>\n",
       "      <td>0.036398</td>\n",
       "    </tr>\n",
       "    <tr>\n",
       "      <th>7</th>\n",
       "      <td>obesity</td>\n",
       "      <td>0.035247</td>\n",
       "    </tr>\n",
       "    <tr>\n",
       "      <th>8</th>\n",
       "      <td>diabetes</td>\n",
       "      <td>0.034189</td>\n",
       "    </tr>\n",
       "    <tr>\n",
       "      <th>9</th>\n",
       "      <td>pneumonia</td>\n",
       "      <td>0.032891</td>\n",
       "    </tr>\n",
       "    <tr>\n",
       "      <th>10</th>\n",
       "      <td>tobacco</td>\n",
       "      <td>0.027464</td>\n",
       "    </tr>\n",
       "    <tr>\n",
       "      <th>11</th>\n",
       "      <td>sex</td>\n",
       "      <td>0.024097</td>\n",
       "    </tr>\n",
       "  </tbody>\n",
       "</table>\n",
       "</div>"
      ],
      "text/plain": [
       "                  Feature  Importance\n",
       "0            patient_type    0.262392\n",
       "1                     age    0.247194\n",
       "2         date_Difference    0.162815\n",
       "3             covid_res_1    0.054136\n",
       "4            hypertension    0.044811\n",
       "5                 intubed    0.038368\n",
       "6   contact_other_covid_3    0.036398\n",
       "7                 obesity    0.035247\n",
       "8                diabetes    0.034189\n",
       "9               pneumonia    0.032891\n",
       "10                tobacco    0.027464\n",
       "11                    sex    0.024097"
      ]
     },
     "execution_count": 60,
     "metadata": {},
     "output_type": "execute_result"
    }
   ],
   "source": [
    "feat_df"
   ]
  },
  {
   "cell_type": "markdown",
   "id": "8f7351dc",
   "metadata": {},
   "source": [
    "##  SVM"
   ]
  },
  {
   "cell_type": "markdown",
   "id": "d1cba5de",
   "metadata": {},
   "source": [
    "### Train the Model"
   ]
  },
  {
   "cell_type": "markdown",
   "id": "07173177",
   "metadata": {},
   "source": [
    "Running cost 10 mins, record result below"
   ]
  },
  {
   "cell_type": "code",
   "execution_count": 61,
   "id": "680769c1",
   "metadata": {},
   "outputs": [
    {
     "name": "stderr",
     "output_type": "stream",
     "text": [
      "Intel(R) Extension for Scikit-learn* enabled (https://github.com/intel/scikit-learn-intelex)\n"
     ]
    },
    {
     "name": "stdout",
     "output_type": "stream",
     "text": [
      "Wall time: 1min 24s\n"
     ]
    },
    {
     "data": {
      "text/plain": [
       "SVC()"
      ]
     },
     "execution_count": 61,
     "metadata": {},
     "output_type": "execute_result"
    }
   ],
   "source": [
    "%%time\n",
    "from sklearnex import patch_sklearn \n",
    "patch_sklearn()\n",
    "from sklearn import svm\n",
    "supvm = svm.SVC(kernel='rbf')\n",
    "supvm.fit(X_train, y_train)"
   ]
  },
  {
   "cell_type": "markdown",
   "id": "645bcada",
   "metadata": {},
   "source": [
    "### Predictions and Evaluation"
   ]
  },
  {
   "cell_type": "code",
   "execution_count": 62,
   "id": "1c971df0",
   "metadata": {},
   "outputs": [
    {
     "name": "stdout",
     "output_type": "stream",
     "text": [
      "SVM's Accuracy:0.9400193371344073\n"
     ]
    }
   ],
   "source": [
    "yhat = supvm.predict(X_test)\n",
    "svm_score=metrics.accuracy_score(y_test, yhat)\n",
    "print(\"SVM's Accuracy:{0}\".format(metrics.accuracy_score(y_test, yhat)))"
   ]
  },
  {
   "cell_type": "code",
   "execution_count": 63,
   "id": "ea27339d",
   "metadata": {},
   "outputs": [
    {
     "data": {
      "text/plain": [
       "<sklearn.metrics._plot.confusion_matrix.ConfusionMatrixDisplay at 0x25fc20e7e20>"
      ]
     },
     "execution_count": 63,
     "metadata": {},
     "output_type": "execute_result"
    },
    {
     "data": {
      "image/png": "[encoded data removed]",
      "text/plain": [
       "<Figure size 432x288 with 2 Axes>"
      ]
     },
     "metadata": {
      "needs_background": "light"
     },
     "output_type": "display_data"
    }
   ],
   "source": [
    "plot_confusion_matrix(supvm, X_test, y_test)"
   ]
  },
  {
   "cell_type": "markdown",
   "id": "e9674e6b",
   "metadata": {},
   "source": [
    "Result: SVM's Accuracy:0.741962324435865"
   ]
  },
  {
   "cell_type": "code",
   "execution_count": 64,
   "id": "71972878",
   "metadata": {},
   "outputs": [],
   "source": [
    "score_accuracy = accuracy_score(y_test,yhat)\n",
    "score_f1 = f1_score(y_test, yhat)\n",
    "score_recall = recall_score(y_test, yhat)\n",
    "score_precision = precision_score(y_test, yhat)\n",
    "score = (score_f1+score_accuracy)/2\n",
    "acc.append(score_accuracy)\n",
    "f1.append(score_f1)\n",
    "recall.append(score_recall)\n",
    "precision.append(score_precision)\n",
    "avg.append(score)"
   ]
  },
  {
   "cell_type": "markdown",
   "id": "ea56dbe8",
   "metadata": {},
   "source": [
    "## Random Forest Classifier"
   ]
  },
  {
   "cell_type": "markdown",
   "id": "294d07c8",
   "metadata": {},
   "source": [
    "### Train the Model"
   ]
  },
  {
   "cell_type": "code",
   "execution_count": 66,
   "id": "5d4bba05",
   "metadata": {},
   "outputs": [
    {
     "data": {
      "text/plain": [
       "RandomForestClassifier(n_estimators=50)"
      ]
     },
     "execution_count": 66,
     "metadata": {},
     "output_type": "execute_result"
    }
   ],
   "source": [
    "from sklearn.ensemble import RandomForestClassifier\n",
    "Random_forest = RandomForestClassifier(n_estimators=50)\n",
    "Random_forest.fit(X_train,y_train)"
   ]
  },
  {
   "cell_type": "markdown",
   "id": "914efd22",
   "metadata": {},
   "source": [
    "### Predictions and Evaluation"
   ]
  },
  {
   "cell_type": "code",
   "execution_count": 67,
   "id": "c997672f",
   "metadata": {},
   "outputs": [
    {
     "name": "stdout",
     "output_type": "stream",
     "text": [
      "Random Forest Score : 0.9385548335726778\n"
     ]
    }
   ],
   "source": [
    "randomForest_predict = Random_forest.predict(X_test)\n",
    "randomForest_score = metrics.accuracy_score(y_test, randomForest_predict)\n",
    "print(\"Random Forest Score :\",randomForest_score)"
   ]
  },
  {
   "cell_type": "code",
   "execution_count": 68,
   "id": "7f5d8d26",
   "metadata": {},
   "outputs": [
    {
     "data": {
      "text/plain": [
       "<sklearn.metrics._plot.confusion_matrix.ConfusionMatrixDisplay at 0x25fc1d22310>"
      ]
     },
     "execution_count": 68,
     "metadata": {},
     "output_type": "execute_result"
    },
    {
     "data": {
      "image/png": "[encoded data removed]",
      "text/plain": [
       "<Figure size 432x288 with 2 Axes>"
      ]
     },
     "metadata": {
      "needs_background": "light"
     },
     "output_type": "display_data"
    }
   ],
   "source": [
    "plot_confusion_matrix(Random_forest, X_test, y_test)"
   ]
  },
  {
   "cell_type": "code",
   "execution_count": 69,
   "id": "e2a83da9",
   "metadata": {},
   "outputs": [],
   "source": [
    "score_accuracy = accuracy_score(y_test,randomForest_predict )\n",
    "score_f1 = f1_score(y_test, randomForest_predict )\n",
    "score_recall = recall_score(y_test, randomForest_predict )\n",
    "score_precision = precision_score(y_test, randomForest_predict )\n",
    "score = (score_f1+score_accuracy)/2\n",
    "acc.append(score_accuracy)\n",
    "f1.append(score_f1)\n",
    "recall.append(score_recall)\n",
    "precision.append(score_precision)\n",
    "avg.append(score)"
   ]
  },
  {
   "cell_type": "markdown",
   "id": "cdc327c7",
   "metadata": {},
   "source": [
    "## Gradient Boosting"
   ]
  },
  {
   "cell_type": "markdown",
   "id": "b1ee1d05",
   "metadata": {},
   "source": [
    "### Train the Model"
   ]
  },
  {
   "cell_type": "code",
   "execution_count": 70,
   "id": "18041547",
   "metadata": {},
   "outputs": [
    {
     "data": {
      "text/plain": [
       "GradientBoostingClassifier(max_depth=6, min_samples_split=100, n_estimators=150,\n",
       "                           random_state=100)"
      ]
     },
     "execution_count": 70,
     "metadata": {},
     "output_type": "execute_result"
    }
   ],
   "source": [
    "gbk = GradientBoostingClassifier(random_state=100, n_estimators=150,min_samples_split=100, max_depth=6)\n",
    "gbk.fit(X_train, y_train)"
   ]
  },
  {
   "cell_type": "markdown",
   "id": "9f691471",
   "metadata": {},
   "source": [
    "### Predictions and Evaluation"
   ]
  },
  {
   "cell_type": "code",
   "execution_count": 71,
   "id": "14f3b2be",
   "metadata": {},
   "outputs": [
    {
     "name": "stdout",
     "output_type": "stream",
     "text": [
      "Gradient Boosting Score : 0.9449176039015512\n"
     ]
    }
   ],
   "source": [
    "gbk_predict = gbk.predict(X_test)\n",
    "gbk_score = gbk.score(X_test,y_test)\n",
    "#print(\"Gradient Boosting Prediction :\",gbk_predict)\n",
    "print(\"Gradient Boosting Score :\",gbk_score)"
   ]
  },
  {
   "cell_type": "code",
   "execution_count": 72,
   "id": "f09343ac",
   "metadata": {},
   "outputs": [
    {
     "data": {
      "text/plain": [
       "<sklearn.metrics._plot.confusion_matrix.ConfusionMatrixDisplay at 0x25fc2f8b580>"
      ]
     },
     "execution_count": 72,
     "metadata": {},
     "output_type": "execute_result"
    },
    {
     "data": {
      "text/plain": [
       "<Figure size 1440x1440 with 0 Axes>"
      ]
     },
     "metadata": {},
     "output_type": "display_data"
    },
    {
     "data": {
      "image/png": "[encoded data removed]",
      "text/plain": [
       "<Figure size 432x288 with 2 Axes>"
      ]
     },
     "metadata": {
      "needs_background": "light"
     },
     "output_type": "display_data"
    }
   ],
   "source": [
    "plt.figure(figsize=(20,20))\n",
    "plot_confusion_matrix(gbk, X_test, y_test)"
   ]
  },
  {
   "cell_type": "code",
   "execution_count": 73,
   "id": "678575b7",
   "metadata": {},
   "outputs": [],
   "source": [
    "score_accuracy = accuracy_score(y_test,gbk_predict)\n",
    "score_f1 = f1_score(y_test, gbk_predict)\n",
    "score_recall = recall_score(y_test, gbk_predict)\n",
    "score_precision = precision_score(y_test, gbk_predict)\n",
    "score = (score_f1+score_accuracy)/2\n",
    "acc.append(score_accuracy)\n",
    "f1.append(score_f1)\n",
    "recall.append(score_recall)\n",
    "precision.append(score_precision)\n",
    "avg.append(score)"
   ]
  },
  {
   "cell_type": "code",
   "execution_count": 74,
   "id": "fc4512de",
   "metadata": {},
   "outputs": [],
   "source": [
    "algo_name = ['Logistic Regression','Naive Bayes','KNN','Decision Tree','SVM','Random Forest','Gradient Boosting']\n",
    "acc=np.array(acc)\n",
    "result = pd.DataFrame(list(zip(algo_name, acc, f1, recall, precision,avg)),columns =['algo_name', 'acc', 'f1', 'recall', 'precision', 'avg'])\n",
    "result = result.sort_values('avg')"
   ]
  },
  {
   "cell_type": "code",
   "execution_count": 79,
   "id": "9936cff4",
   "metadata": {},
   "outputs": [
    {
     "data": {
      "text/html": [
       "<div>\n",
       "<style scoped>\n",
       "    .dataframe tbody tr th:only-of-type {\n",
       "        vertical-align: middle;\n",
       "    }\n",
       "\n",
       "    .dataframe tbody tr th {\n",
       "        vertical-align: top;\n",
       "    }\n",
       "\n",
       "    .dataframe thead th {\n",
       "        text-align: right;\n",
       "    }\n",
       "</style>\n",
       "<table border=\"1\" class=\"dataframe\">\n",
       "  <thead>\n",
       "    <tr style=\"text-align: right;\">\n",
       "      <th></th>\n",
       "      <th>algo_name</th>\n",
       "      <th>acc</th>\n",
       "      <th>f1</th>\n",
       "      <th>recall</th>\n",
       "      <th>precision</th>\n",
       "      <th>avg</th>\n",
       "    </tr>\n",
       "  </thead>\n",
       "  <tbody>\n",
       "    <tr>\n",
       "      <th>4</th>\n",
       "      <td>SVM</td>\n",
       "      <td>0.940019</td>\n",
       "      <td>0.222611</td>\n",
       "      <td>0.135761</td>\n",
       "      <td>0.617903</td>\n",
       "      <td>0.581315</td>\n",
       "    </tr>\n",
       "    <tr>\n",
       "      <th>2</th>\n",
       "      <td>KNN</td>\n",
       "      <td>0.936728</td>\n",
       "      <td>0.370669</td>\n",
       "      <td>0.294561</td>\n",
       "      <td>0.499809</td>\n",
       "      <td>0.653698</td>\n",
       "    </tr>\n",
       "    <tr>\n",
       "      <th>0</th>\n",
       "      <td>Logistic Regression</td>\n",
       "      <td>0.873100</td>\n",
       "      <td>0.476079</td>\n",
       "      <td>0.911441</td>\n",
       "      <td>0.322183</td>\n",
       "      <td>0.674589</td>\n",
       "    </tr>\n",
       "    <tr>\n",
       "      <th>5</th>\n",
       "      <td>Random Forest</td>\n",
       "      <td>0.938555</td>\n",
       "      <td>0.419270</td>\n",
       "      <td>0.350641</td>\n",
       "      <td>0.521303</td>\n",
       "      <td>0.678913</td>\n",
       "    </tr>\n",
       "    <tr>\n",
       "      <th>6</th>\n",
       "      <td>Gradient Boosting</td>\n",
       "      <td>0.944918</td>\n",
       "      <td>0.440092</td>\n",
       "      <td>0.342212</td>\n",
       "      <td>0.616397</td>\n",
       "      <td>0.692505</td>\n",
       "    </tr>\n",
       "    <tr>\n",
       "      <th>3</th>\n",
       "      <td>Decision Tree</td>\n",
       "      <td>0.944839</td>\n",
       "      <td>0.443600</td>\n",
       "      <td>0.347606</td>\n",
       "      <td>0.612839</td>\n",
       "      <td>0.694220</td>\n",
       "    </tr>\n",
       "    <tr>\n",
       "      <th>1</th>\n",
       "      <td>Naive Bayes</td>\n",
       "      <td>0.903634</td>\n",
       "      <td>0.497870</td>\n",
       "      <td>0.755226</td>\n",
       "      <td>0.371332</td>\n",
       "      <td>0.700752</td>\n",
       "    </tr>\n",
       "  </tbody>\n",
       "</table>\n",
       "</div>"
      ],
      "text/plain": [
       "             algo_name       acc        f1    recall  precision       avg\n",
       "4                  SVM  0.940019  0.222611  0.135761   0.617903  0.581315\n",
       "2                  KNN  0.936728  0.370669  0.294561   0.499809  0.653698\n",
       "0  Logistic Regression  0.873100  0.476079  0.911441   0.322183  0.674589\n",
       "5        Random Forest  0.938555  0.419270  0.350641   0.521303  0.678913\n",
       "6    Gradient Boosting  0.944918  0.440092  0.342212   0.616397  0.692505\n",
       "3        Decision Tree  0.944839  0.443600  0.347606   0.612839  0.694220\n",
       "1          Naive Bayes  0.903634  0.497870  0.755226   0.371332  0.700752"
      ]
     },
     "execution_count": 79,
     "metadata": {},
     "output_type": "execute_result"
    }
   ],
   "source": [
    "result"
   ]
  },
  {
   "cell_type": "code",
   "execution_count": 78,
   "id": "15e1ebcd",
   "metadata": {},
   "outputs": [
    {
     "data": {
      "text/plain": [
       "Text(0, 0.5, 'avg')"
      ]
     },
     "execution_count": 78,
     "metadata": {},
     "output_type": "execute_result"
    },
    {
     "data": {
      "image/png": "[encoded data removed]",
      "text/plain": [
       "<Figure size 720x576 with 1 Axes>"
      ]
     },
     "metadata": {
      "needs_background": "light"
     },
     "output_type": "display_data"
    }
   ],
   "source": [
    "from numpy import median\n",
    "plt.figure(figsize=(10,8))\n",
    "sns.barplot(y='avg', x='algo_name', estimator=median, color='tomato', data = result)\n",
    "plt.xlabel('Algorithm Name',size=30)\n",
    "plt.xticks(rotation=45)\n",
    "plt.ylabel('avg',size=30)"
   ]
  },
  {
   "cell_type": "markdown",
   "id": "f8dcc03f",
   "metadata": {},
   "source": [
    "# Conclusion"
   ]
  },
  {
   "cell_type": "markdown",
   "id": "ddd952c1",
   "metadata": {},
   "source": [
    "1. After comparing different models, my team conclude that Naive Bayes provide best accuracy among these models. Accuracy is 0.90, f1 score is 0.50.​\n",
    "\n",
    "2. Feature Importance indicate that we need to vaccinate elder hospitality patient especially disease developing fast patient, cause they are most vulnerable group. ​\n",
    "\n",
    "3. People with disease such as obesity, diabetes, pneumonia and smoke history have higher death ratio, we need to serve those person as priority as well."
   ]
  },
  {
   "cell_type": "markdown",
   "id": "fe47094a",
   "metadata": {},
   "source": [
    "# Future work"
   ]
  },
  {
   "cell_type": "markdown",
   "id": "c1ea3201",
   "metadata": {},
   "source": [
    "1. With bigger dataset and more features included, we would be able to generate a better model with higher accuracy.\n",
    "2. As the vaccination been given to the population, we may able to trace the efficiency along the time and also reply it to different group of people.\n",
    "3. Some model really cost long time to have result, I want to adjust it or find better mathine learning model to fit the columns. "
   ]
  }
 ],
 "metadata": {
  "kernelspec": {
   "display_name": "Python 3 (ipykernel)",
   "language": "python",
   "name": "python3"
  },
  "language_info": {
   "codemirror_mode": {
    "name": "ipython",
    "version": 3
   },
   "file_extension": ".py",
   "mimetype": "text/x-python",
   "name": "python",
   "nbconvert_exporter": "python",
   "pygments_lexer": "ipython3",
   "version": "3.9.2"
  },
  "toc": {
   "base_numbering": 1,
   "nav_menu": {},
   "number_sections": true,
   "sideBar": true,
   "skip_h1_title": false,
   "title_cell": "Table of Contents",
   "title_sidebar": "Contents",
   "toc_cell": false,
   "toc_position": {
    "height": "calc(100% - 180px)",
    "left": "10px",
    "top": "150px",
    "width": "165px"
   },
   "toc_section_display": true,
   "toc_window_display": false
  }
 },
 "nbformat": 4,
 "nbformat_minor": 5
}
