{
 "cells": [
  {
   "cell_type": "markdown",
   "id": "d46d8c00",
   "metadata": {},
   "source": [
    "# COVID-19 Prediction of high risk of Fatality"
   ]
  },
  {
   "cell_type": "markdown",
   "id": "785c2f03",
   "metadata": {},
   "source": [
    "Jiajie Xu, 10Jan2022"
   ]
  },
  {
   "cell_type": "markdown",
   "id": "b15f700c",
   "metadata": {},
   "source": [
    "# Overview"
   ]
  },
  {
   "cell_type": "markdown",
   "id": "4a3c104c",
   "metadata": {},
   "source": [
    "## Business Problem"
   ]
  },
  {
   "cell_type": "markdown",
   "id": "7ce965ef",
   "metadata": {},
   "source": [
    "It's been two years, but countries around the world are still suffering from the Covid-19 and its varients. We are losing people's life every second. The best way to protect them is vaccination, but the vaccine supply is also influenced by the pandemic. We have got a very urgent priorites to thrash out, which is predicttion of a higher-risk population by using current patient group survey dataset. Thus, we would be able to slow down the death and spread. "
   ]
  },
  {
   "cell_type": "markdown",
   "id": "a6d11c98",
   "metadata": {},
   "source": [
    "# Data Loading and cleaning"
   ]
  },
  {
   "cell_type": "code",
   "execution_count": 1,
   "id": "dbcf4259",
   "metadata": {},
   "outputs": [
    {
     "name": "stdout",
     "output_type": "stream",
     "text": [
      "TensorFlow Version: 2.7.0\n",
      "Default GPU Device: /device:GPU:0\n"
     ]
    }
   ],
   "source": [
    "from distutils.version import LooseVersion\n",
    "import warnings\n",
    "import tensorflow as tf\n",
    "\n",
    "# Check TensorFlow Version\n",
    "assert LooseVersion(tf.__version__) >= LooseVersion('1.0'), 'Please use TensorFlow version 1.0 or newer.  You are using {}'.format(tf.__version__)\n",
    "print('TensorFlow Version: {}'.format(tf.__version__))\n",
    "\n",
    "# Check for a GPU\n",
    "if not tf.test.gpu_device_name():\n",
    "    warnings.warn('No GPU found. Please ensure you have installed TensorFlow correctly')\n",
    "else:\n",
    "    print('Default GPU Device: {}'.format(tf.test.gpu_device_name()))"
   ]
  },
  {
   "cell_type": "code",
   "execution_count": 2,
   "id": "102ed675",
   "metadata": {},
   "outputs": [],
   "source": [
    "import pandas as pd\n",
    "import numpy as np\n",
    "import warnings\n",
    "warnings.filterwarnings('ignore')\n",
    "import matplotlib.pyplot as plt\n",
    "import seaborn as sns\n",
    "import statsmodels as sm\n",
    "import sklearn.preprocessing as preprocessing\n",
    "from sklearn.linear_model import LogisticRegression\n",
    "from sklearn.model_selection import train_test_split, KFold\n",
    "from scipy import stats\n",
    "from sklearn.metrics import classification_report\n",
    "from sklearn.tree import DecisionTreeClassifier\n",
    "from sklearn.preprocessing import LabelEncoder\n",
    "from sklearn.metrics import accuracy_score, plot_roc_curve, plot_confusion_matrix\n",
    "from sklearn.datasets import load_iris\n",
    "# For plotting the tree.\n",
    "from sklearn.tree import export_graphviz, plot_tree\n",
    "# from pydotplus import graph_from_dot_data\n",
    "from IPython.display import Image\n",
    "from sklearn import metrics\n",
    "from sklearn.ensemble import GradientBoostingClassifier\n",
    "from sklearn.naive_bayes import GaussianNB\n",
    "from sklearn.metrics import f1_score, confusion_matrix, recall_score, precision_score, accuracy_score\n",
    "from sklearn import datasets\n",
    "from sklearn.preprocessing import StandardScaler, MinMaxScaler, LabelEncoder\n",
    "from sklearn.neighbors import KNeighborsClassifier, NearestNeighbors"
   ]
  },
  {
   "cell_type": "code",
   "execution_count": 3,
   "id": "bf6a4c74",
   "metadata": {},
   "outputs": [
    {
     "name": "stdout",
     "output_type": "stream",
     "text": [
      " Volume in drive D is New Volume\n",
      " Volume Serial Number is C649-A6AD\n",
      "\n",
      " Directory of d:\\Flatiron\\Project3\n",
      "\n",
      "01/10/2022  04:53 AM    <DIR>          .\n",
      "12/11/2021  05:55 PM    <DIR>          ..\n",
      "12/19/2021  03:34 PM    <DIR>          .ipynb_checkpoints\n",
      "12/11/2021  05:56 PM        46,684,628 covid.csv\n",
      "01/10/2022  12:25 AM    <DIR>          tensorflow-gpu-tutorial\n",
      "01/10/2022  04:53 AM           217,978 Untitled1.ipynb\n",
      "               2 File(s)     46,902,606 bytes\n",
      "               4 Dir(s)  1,564,211,036,160 bytes free\n"
     ]
    }
   ],
   "source": [
    "ls"
   ]
  },
  {
   "cell_type": "code",
   "execution_count": 4,
   "id": "64ef5a9c",
   "metadata": {},
   "outputs": [],
   "source": [
    "df = pd.read_csv('covid.csv')"
   ]
  },
  {
   "cell_type": "code",
   "execution_count": 5,
   "id": "34fcf64c",
   "metadata": {},
   "outputs": [
    {
     "name": "stdout",
     "output_type": "stream",
     "text": [
      "<class 'pandas.core.frame.DataFrame'>\n",
      "RangeIndex: 566602 entries, 0 to 566601\n",
      "Data columns (total 23 columns):\n",
      " #   Column               Non-Null Count   Dtype \n",
      "---  ------               --------------   ----- \n",
      " 0   id                   566602 non-null  object\n",
      " 1   sex                  566602 non-null  int64 \n",
      " 2   patient_type         566602 non-null  int64 \n",
      " 3   entry_date           566602 non-null  object\n",
      " 4   date_symptoms        566602 non-null  object\n",
      " 5   date_died            566602 non-null  object\n",
      " 6   intubed              566602 non-null  int64 \n",
      " 7   pneumonia            566602 non-null  int64 \n",
      " 8   age                  566602 non-null  int64 \n",
      " 9   pregnancy            566602 non-null  int64 \n",
      " 10  diabetes             566602 non-null  int64 \n",
      " 11  copd                 566602 non-null  int64 \n",
      " 12  asthma               566602 non-null  int64 \n",
      " 13  inmsupr              566602 non-null  int64 \n",
      " 14  hypertension         566602 non-null  int64 \n",
      " 15  other_disease        566602 non-null  int64 \n",
      " 16  cardiovascular       566602 non-null  int64 \n",
      " 17  obesity              566602 non-null  int64 \n",
      " 18  renal_chronic        566602 non-null  int64 \n",
      " 19  tobacco              566602 non-null  int64 \n",
      " 20  contact_other_covid  566602 non-null  int64 \n",
      " 21  covid_res            566602 non-null  int64 \n",
      " 22  icu                  566602 non-null  int64 \n",
      "dtypes: int64(19), object(4)\n",
      "memory usage: 99.4+ MB\n"
     ]
    }
   ],
   "source": [
    "df.info()"
   ]
  },
  {
   "cell_type": "code",
   "execution_count": 6,
   "id": "3c2d306b",
   "metadata": {},
   "outputs": [
    {
     "data": {
      "text/html": [
       "<div>\n",
       "<style scoped>\n",
       "    .dataframe tbody tr th:only-of-type {\n",
       "        vertical-align: middle;\n",
       "    }\n",
       "\n",
       "    .dataframe tbody tr th {\n",
       "        vertical-align: top;\n",
       "    }\n",
       "\n",
       "    .dataframe thead th {\n",
       "        text-align: right;\n",
       "    }\n",
       "</style>\n",
       "<table border=\"1\" class=\"dataframe\">\n",
       "  <thead>\n",
       "    <tr style=\"text-align: right;\">\n",
       "      <th></th>\n",
       "      <th>id</th>\n",
       "      <th>sex</th>\n",
       "      <th>patient_type</th>\n",
       "      <th>entry_date</th>\n",
       "      <th>date_symptoms</th>\n",
       "      <th>date_died</th>\n",
       "      <th>intubed</th>\n",
       "      <th>pneumonia</th>\n",
       "      <th>age</th>\n",
       "      <th>pregnancy</th>\n",
       "      <th>...</th>\n",
       "      <th>inmsupr</th>\n",
       "      <th>hypertension</th>\n",
       "      <th>other_disease</th>\n",
       "      <th>cardiovascular</th>\n",
       "      <th>obesity</th>\n",
       "      <th>renal_chronic</th>\n",
       "      <th>tobacco</th>\n",
       "      <th>contact_other_covid</th>\n",
       "      <th>covid_res</th>\n",
       "      <th>icu</th>\n",
       "    </tr>\n",
       "  </thead>\n",
       "  <tbody>\n",
       "    <tr>\n",
       "      <th>0</th>\n",
       "      <td>16169f</td>\n",
       "      <td>2</td>\n",
       "      <td>1</td>\n",
       "      <td>04-05-2020</td>\n",
       "      <td>02-05-2020</td>\n",
       "      <td>9999-99-99</td>\n",
       "      <td>97</td>\n",
       "      <td>2</td>\n",
       "      <td>27</td>\n",
       "      <td>97</td>\n",
       "      <td>...</td>\n",
       "      <td>2</td>\n",
       "      <td>2</td>\n",
       "      <td>2</td>\n",
       "      <td>2</td>\n",
       "      <td>2</td>\n",
       "      <td>2</td>\n",
       "      <td>2</td>\n",
       "      <td>2</td>\n",
       "      <td>1</td>\n",
       "      <td>97</td>\n",
       "    </tr>\n",
       "    <tr>\n",
       "      <th>1</th>\n",
       "      <td>1009bf</td>\n",
       "      <td>2</td>\n",
       "      <td>1</td>\n",
       "      <td>19-03-2020</td>\n",
       "      <td>17-03-2020</td>\n",
       "      <td>9999-99-99</td>\n",
       "      <td>97</td>\n",
       "      <td>2</td>\n",
       "      <td>24</td>\n",
       "      <td>97</td>\n",
       "      <td>...</td>\n",
       "      <td>2</td>\n",
       "      <td>2</td>\n",
       "      <td>2</td>\n",
       "      <td>2</td>\n",
       "      <td>2</td>\n",
       "      <td>2</td>\n",
       "      <td>2</td>\n",
       "      <td>99</td>\n",
       "      <td>1</td>\n",
       "      <td>97</td>\n",
       "    </tr>\n",
       "    <tr>\n",
       "      <th>2</th>\n",
       "      <td>167386</td>\n",
       "      <td>1</td>\n",
       "      <td>2</td>\n",
       "      <td>06-04-2020</td>\n",
       "      <td>01-04-2020</td>\n",
       "      <td>9999-99-99</td>\n",
       "      <td>2</td>\n",
       "      <td>2</td>\n",
       "      <td>54</td>\n",
       "      <td>2</td>\n",
       "      <td>...</td>\n",
       "      <td>2</td>\n",
       "      <td>2</td>\n",
       "      <td>2</td>\n",
       "      <td>2</td>\n",
       "      <td>1</td>\n",
       "      <td>2</td>\n",
       "      <td>2</td>\n",
       "      <td>99</td>\n",
       "      <td>1</td>\n",
       "      <td>2</td>\n",
       "    </tr>\n",
       "    <tr>\n",
       "      <th>3</th>\n",
       "      <td>0b5948</td>\n",
       "      <td>2</td>\n",
       "      <td>2</td>\n",
       "      <td>17-04-2020</td>\n",
       "      <td>10-04-2020</td>\n",
       "      <td>9999-99-99</td>\n",
       "      <td>2</td>\n",
       "      <td>1</td>\n",
       "      <td>30</td>\n",
       "      <td>97</td>\n",
       "      <td>...</td>\n",
       "      <td>2</td>\n",
       "      <td>2</td>\n",
       "      <td>2</td>\n",
       "      <td>2</td>\n",
       "      <td>2</td>\n",
       "      <td>2</td>\n",
       "      <td>2</td>\n",
       "      <td>99</td>\n",
       "      <td>1</td>\n",
       "      <td>2</td>\n",
       "    </tr>\n",
       "    <tr>\n",
       "      <th>4</th>\n",
       "      <td>0d01b5</td>\n",
       "      <td>1</td>\n",
       "      <td>2</td>\n",
       "      <td>13-04-2020</td>\n",
       "      <td>13-04-2020</td>\n",
       "      <td>22-04-2020</td>\n",
       "      <td>2</td>\n",
       "      <td>2</td>\n",
       "      <td>60</td>\n",
       "      <td>2</td>\n",
       "      <td>...</td>\n",
       "      <td>2</td>\n",
       "      <td>1</td>\n",
       "      <td>2</td>\n",
       "      <td>1</td>\n",
       "      <td>2</td>\n",
       "      <td>2</td>\n",
       "      <td>2</td>\n",
       "      <td>99</td>\n",
       "      <td>1</td>\n",
       "      <td>2</td>\n",
       "    </tr>\n",
       "  </tbody>\n",
       "</table>\n",
       "<p>5 rows × 23 columns</p>\n",
       "</div>"
      ],
      "text/plain": [
       "       id  sex  patient_type  entry_date date_symptoms   date_died  intubed  \\\n",
       "0  16169f    2             1  04-05-2020    02-05-2020  9999-99-99       97   \n",
       "1  1009bf    2             1  19-03-2020    17-03-2020  9999-99-99       97   \n",
       "2  167386    1             2  06-04-2020    01-04-2020  9999-99-99        2   \n",
       "3  0b5948    2             2  17-04-2020    10-04-2020  9999-99-99        2   \n",
       "4  0d01b5    1             2  13-04-2020    13-04-2020  22-04-2020        2   \n",
       "\n",
       "   pneumonia  age  pregnancy  ...  inmsupr  hypertension  other_disease  \\\n",
       "0          2   27         97  ...        2             2              2   \n",
       "1          2   24         97  ...        2             2              2   \n",
       "2          2   54          2  ...        2             2              2   \n",
       "3          1   30         97  ...        2             2              2   \n",
       "4          2   60          2  ...        2             1              2   \n",
       "\n",
       "   cardiovascular  obesity  renal_chronic  tobacco  contact_other_covid  \\\n",
       "0               2        2              2        2                    2   \n",
       "1               2        2              2        2                   99   \n",
       "2               2        1              2        2                   99   \n",
       "3               2        2              2        2                   99   \n",
       "4               1        2              2        2                   99   \n",
       "\n",
       "   covid_res  icu  \n",
       "0          1   97  \n",
       "1          1   97  \n",
       "2          1    2  \n",
       "3          1    2  \n",
       "4          1    2  \n",
       "\n",
       "[5 rows x 23 columns]"
      ]
     },
     "execution_count": 6,
     "metadata": {},
     "output_type": "execute_result"
    }
   ],
   "source": [
    "# for c in df.columns:\n",
    "#     print (\"---- %s ---\" % c)\n",
    "#     print (df[c].value_counts())\n",
    "df.head()"
   ]
  },
  {
   "cell_type": "markdown",
   "id": "2b059dc6",
   "metadata": {},
   "source": [
    "## entry_date\tdate_symptoms\tdate_died"
   ]
  },
  {
   "cell_type": "code",
   "execution_count": 7,
   "id": "1d483ff8",
   "metadata": {},
   "outputs": [],
   "source": [
    "df['date_symptoms'] = pd.to_datetime(df['date_symptoms'], format='%d-%m-%Y')\n",
    "df['entry_date'] = pd.to_datetime(df['entry_date'], format='%d-%m-%Y')\n",
    "df['date_Difference'] = (df['entry_date'] - df['date_symptoms']).dt.days"
   ]
  },
  {
   "cell_type": "code",
   "execution_count": 8,
   "id": "1ee54072",
   "metadata": {},
   "outputs": [],
   "source": [
    "df.loc[df['date_died'] == '9999-99-99', 'date_died'] = 0"
   ]
  },
  {
   "cell_type": "code",
   "execution_count": 9,
   "id": "b4747e35",
   "metadata": {},
   "outputs": [],
   "source": [
    "df.loc[df['date_died'] != 0, 'date_died'] = 1"
   ]
  },
  {
   "cell_type": "code",
   "execution_count": 10,
   "id": "b6d8c6e3",
   "metadata": {},
   "outputs": [
    {
     "data": {
      "text/plain": [
       "0    0.936153\n",
       "1    0.063847\n",
       "Name: date_died, dtype: float64"
      ]
     },
     "execution_count": 10,
     "metadata": {},
     "output_type": "execute_result"
    }
   ],
   "source": [
    "df['date_died'].value_counts(normalize = True)"
   ]
  },
  {
   "cell_type": "code",
   "execution_count": 11,
   "id": "153bd750",
   "metadata": {},
   "outputs": [],
   "source": [
    "df = df.rename(columns={\"date_died\": \"survive\"})"
   ]
  },
  {
   "cell_type": "code",
   "execution_count": 12,
   "id": "8a950ef0",
   "metadata": {},
   "outputs": [
    {
     "data": {
      "text/plain": [
       "0    530426\n",
       "1     36176\n",
       "Name: survive, dtype: int64"
      ]
     },
     "execution_count": 12,
     "metadata": {},
     "output_type": "execute_result"
    }
   ],
   "source": [
    "df['survive'].value_counts()"
   ]
  },
  {
   "cell_type": "code",
   "execution_count": 13,
   "id": "ca0b5a1b",
   "metadata": {},
   "outputs": [],
   "source": [
    "df['survive'] = df['survive'].astype(int)"
   ]
  },
  {
   "cell_type": "markdown",
   "id": "3eeef562",
   "metadata": {},
   "source": [
    "## Sex"
   ]
  },
  {
   "cell_type": "code",
   "execution_count": 14,
   "id": "5e9ada42",
   "metadata": {},
   "outputs": [
    {
     "data": {
      "image/png": "[encoded data removed]",
      "text/plain": [
       "<Figure size 432x288 with 1 Axes>"
      ]
     },
     "metadata": {
      "needs_background": "light"
     },
     "output_type": "display_data"
    }
   ],
   "source": [
    "df[\"sex\"].value_counts().plot.bar()\n",
    "# Docs says that sex == 1 means male, but then some males are pregnant and no females are pregnant. \n",
    "# Also, all pregnancy data for sex == 2 is NaN, so it seems that sex should be switched, as opposed to pregnant column.\n",
    "df.sex = df.sex.replace([1,2], [2, 1])\n",
    "\n"
   ]
  },
  {
   "cell_type": "code",
   "execution_count": 15,
   "id": "64614e96",
   "metadata": {},
   "outputs": [
    {
     "data": {
      "text/plain": [
       "0    91.822007\n",
       "1     8.177993\n",
       "Name: survive, dtype: float64"
      ]
     },
     "execution_count": 15,
     "metadata": {},
     "output_type": "execute_result"
    }
   ],
   "source": [
    "(df[df['sex'] == 1]['survive'].value_counts()/df[df['sex'] == 1]['survive'].count())*100"
   ]
  },
  {
   "cell_type": "code",
   "execution_count": 16,
   "id": "a08b7ccb",
   "metadata": {},
   "outputs": [
    {
     "data": {
      "text/plain": [
       "0    95.45744\n",
       "1     4.54256\n",
       "Name: survive, dtype: float64"
      ]
     },
     "execution_count": 16,
     "metadata": {},
     "output_type": "execute_result"
    }
   ],
   "source": [
    "(df[df['sex'] == 2]['survive'].value_counts()/df[df['sex'] == 2]['survive'].count())*100"
   ]
  },
  {
   "cell_type": "markdown",
   "id": "8b68d377",
   "metadata": {},
   "source": [
    "## Age"
   ]
  },
  {
   "cell_type": "code",
   "execution_count": 17,
   "id": "5108fbc7",
   "metadata": {},
   "outputs": [
    {
     "data": {
      "text/plain": [
       "Text(22.248996913580257, 0.5, 'count')"
      ]
     },
     "execution_count": 17,
     "metadata": {},
     "output_type": "execute_result"
    },
    {
     "data": {
      "image/png": "[encoded data removed]",
      "text/plain": [
       "<Figure size 1988.5x648 with 1 Axes>"
      ]
     },
     "metadata": {
      "needs_background": "light"
     },
     "output_type": "display_data"
    }
   ],
   "source": [
    "sns.catplot('age',data=df,hue='survive',kind='count',palette='bright',aspect=3,height=9)\n",
    "plt.xlabel('age',size=30)\n",
    "plt.xticks(rotation=45)\n",
    "plt.ylabel('count',size=30)"
   ]
  },
  {
   "cell_type": "markdown",
   "id": "303fdb65",
   "metadata": {},
   "source": [
    "## Intubed"
   ]
  },
  {
   "cell_type": "code",
   "execution_count": 18,
   "id": "f09a09e5",
   "metadata": {},
   "outputs": [],
   "source": [
    "df[\"intubed\"].replace({97: 2, 99: 2}, inplace=True)"
   ]
  },
  {
   "cell_type": "code",
   "execution_count": 19,
   "id": "eea84856",
   "metadata": {},
   "outputs": [
    {
     "data": {
      "text/html": [
       "<div>\n",
       "<style scoped>\n",
       "    .dataframe tbody tr th:only-of-type {\n",
       "        vertical-align: middle;\n",
       "    }\n",
       "\n",
       "    .dataframe tbody tr th {\n",
       "        vertical-align: top;\n",
       "    }\n",
       "\n",
       "    .dataframe thead th {\n",
       "        text-align: right;\n",
       "    }\n",
       "</style>\n",
       "<table border=\"1\" class=\"dataframe\">\n",
       "  <thead>\n",
       "    <tr style=\"text-align: right;\">\n",
       "      <th></th>\n",
       "      <th>intubed</th>\n",
       "    </tr>\n",
       "  </thead>\n",
       "  <tbody>\n",
       "    <tr>\n",
       "      <th>2</th>\n",
       "      <td>556637</td>\n",
       "    </tr>\n",
       "    <tr>\n",
       "      <th>1</th>\n",
       "      <td>9965</td>\n",
       "    </tr>\n",
       "  </tbody>\n",
       "</table>\n",
       "</div>"
      ],
      "text/plain": [
       "   intubed\n",
       "2   556637\n",
       "1     9965"
      ]
     },
     "execution_count": 19,
     "metadata": {},
     "output_type": "execute_result"
    }
   ],
   "source": [
    "df['intubed'].value_counts().to_frame()"
   ]
  },
  {
   "cell_type": "markdown",
   "id": "d5f8dd48",
   "metadata": {},
   "source": [
    "## Pregnancy"
   ]
  },
  {
   "cell_type": "code",
   "execution_count": 20,
   "id": "097287d9",
   "metadata": {},
   "outputs": [],
   "source": [
    "df[\"pregnancy\"].replace({97: 2, 98: 2}, inplace=True)"
   ]
  },
  {
   "cell_type": "markdown",
   "id": "52fab7e5",
   "metadata": {},
   "source": [
    "## contact_other_covid"
   ]
  },
  {
   "cell_type": "code",
   "execution_count": 21,
   "id": "034f306e",
   "metadata": {},
   "outputs": [],
   "source": [
    "df[\"contact_other_covid\"].replace({99: 3}, inplace=True)"
   ]
  },
  {
   "cell_type": "markdown",
   "id": "c947cab6",
   "metadata": {},
   "source": [
    "## ICU"
   ]
  },
  {
   "cell_type": "code",
   "execution_count": 22,
   "id": "5cc0fdbd",
   "metadata": {},
   "outputs": [],
   "source": [
    "# df[\"icu\"].replace({97: 2, 99: 2}, inplace=True)\n",
    "df=df[df['icu']!=99]\n",
    "df=df[df['icu']!=97]\n",
    "# df.info()"
   ]
  },
  {
   "cell_type": "markdown",
   "id": "58f049b6",
   "metadata": {},
   "source": [
    "## Remove rest missing value row"
   ]
  },
  {
   "cell_type": "code",
   "execution_count": 23,
   "id": "03eb6da1",
   "metadata": {},
   "outputs": [],
   "source": [
    "# df = df[(df.pneumonia != 99)]\n",
    "df = df[(df.pneumonia != 99) & (df.diabetes != 98) & (df.copd != 98)]\n",
    "df = df[(df.asthma != 98) & (df.inmsupr != 98) & (df.hypertension != 98)]\n",
    "df = df[(df.other_disease != 98) & (df.cardiovascular != 98) & (df.obesity != 98)]\n",
    "df = df[(df.renal_chronic != 98) & (df.tobacco != 98)]"
   ]
  },
  {
   "cell_type": "markdown",
   "id": "38fe4d6f",
   "metadata": {},
   "source": [
    "## Drop less important value"
   ]
  },
  {
   "cell_type": "code",
   "execution_count": 24,
   "id": "f52d8075",
   "metadata": {},
   "outputs": [],
   "source": [
    "df = df.drop(['id', 'entry_date', 'date_symptoms', 'other_disease' , 'icu', 'cardiovascular', 'copd', 'renal_chronic', 'inmsupr', 'asthma', 'pregnancy', 'patient_type'], axis=1)"
   ]
  },
  {
   "cell_type": "code",
   "execution_count": 25,
   "id": "076edf4d",
   "metadata": {},
   "outputs": [],
   "source": [
    "# for c in df.columns:\n",
    "#     print (\"---- %s ---\" % c)\n",
    "#     print (df[c].value_counts())"
   ]
  },
  {
   "cell_type": "code",
   "execution_count": 26,
   "id": "655614d0",
   "metadata": {},
   "outputs": [
    {
     "name": "stdout",
     "output_type": "stream",
     "text": [
      "<class 'pandas.core.frame.DataFrame'>\n",
      "Int64Index: 120182 entries, 2 to 566599\n",
      "Data columns (total 12 columns):\n",
      " #   Column               Non-Null Count   Dtype\n",
      "---  ------               --------------   -----\n",
      " 0   sex                  120182 non-null  int64\n",
      " 1   survive              120182 non-null  int32\n",
      " 2   intubed              120182 non-null  int64\n",
      " 3   pneumonia            120182 non-null  int64\n",
      " 4   age                  120182 non-null  int64\n",
      " 5   diabetes             120182 non-null  int64\n",
      " 6   hypertension         120182 non-null  int64\n",
      " 7   obesity              120182 non-null  int64\n",
      " 8   tobacco              120182 non-null  int64\n",
      " 9   contact_other_covid  120182 non-null  int64\n",
      " 10  covid_res            120182 non-null  int64\n",
      " 11  date_Difference      120182 non-null  int64\n",
      "dtypes: int32(1), int64(11)\n",
      "memory usage: 11.5 MB\n"
     ]
    }
   ],
   "source": [
    "df.info()"
   ]
  },
  {
   "cell_type": "code",
   "execution_count": 27,
   "id": "d01be567",
   "metadata": {},
   "outputs": [
    {
     "data": {
      "text/plain": [
       "sex                    0\n",
       "survive                0\n",
       "intubed                0\n",
       "pneumonia              0\n",
       "age                    0\n",
       "diabetes               0\n",
       "hypertension           0\n",
       "obesity                0\n",
       "tobacco                0\n",
       "contact_other_covid    0\n",
       "covid_res              0\n",
       "date_Difference        0\n",
       "dtype: int64"
      ]
     },
     "execution_count": 27,
     "metadata": {},
     "output_type": "execute_result"
    }
   ],
   "source": [
    "df.isna().sum() "
   ]
  },
  {
   "cell_type": "code",
   "execution_count": 28,
   "id": "5bb6b5be",
   "metadata": {},
   "outputs": [
    {
     "data": {
      "text/plain": [
       "Text(0.5, 1.0, 'Correlation heatmap')"
      ]
     },
     "execution_count": 28,
     "metadata": {},
     "output_type": "execute_result"
    },
    {
     "data": {
      "image/png": "[encoded data removed]",
      "text/plain": [
       "<Figure size 1080x1080 with 2 Axes>"
      ]
     },
     "metadata": {
      "needs_background": "light"
     },
     "output_type": "display_data"
    }
   ],
   "source": [
    "plt.figure(figsize=(15,15))\n",
    "sns.heatmap(df.corr(),cmap='viridis')\n",
    "plt.title('Correlation heatmap',size=25)"
   ]
  },
  {
   "cell_type": "markdown",
   "id": "b6c29585",
   "metadata": {},
   "source": [
    "# Training the model using different algorithms"
   ]
  },
  {
   "cell_type": "markdown",
   "id": "df6e3515",
   "metadata": {},
   "source": [
    "## Data split into train set and test set"
   ]
  },
  {
   "cell_type": "code",
   "execution_count": 29,
   "id": "b54db77f",
   "metadata": {},
   "outputs": [],
   "source": [
    "y = df['survive']\n",
    "X = df.drop(['survive'], axis=1)\n",
    "X_train, X_test, y_train, y_test = train_test_split(X, y, stratify = y, random_state=0)"
   ]
  },
  {
   "cell_type": "code",
   "execution_count": 30,
   "id": "a8b02140",
   "metadata": {},
   "outputs": [
    {
     "name": "stdout",
     "output_type": "stream",
     "text": [
      "(90136, 11) (30046, 11) (90136,) (30046,)\n"
     ]
    }
   ],
   "source": [
    "print(X_train.shape, X_test.shape, y_train.shape, y_test.shape)"
   ]
  },
  {
   "cell_type": "code",
   "execution_count": 31,
   "id": "33515afc",
   "metadata": {},
   "outputs": [],
   "source": [
    "acc=[]"
   ]
  },
  {
   "cell_type": "markdown",
   "id": "7503cc1b",
   "metadata": {},
   "source": [
    "## Logistic Regression Model"
   ]
  },
  {
   "cell_type": "markdown",
   "id": "2be45268",
   "metadata": {},
   "source": [
    "### Train the Model"
   ]
  },
  {
   "cell_type": "code",
   "execution_count": 32,
   "id": "22eef365",
   "metadata": {},
   "outputs": [],
   "source": [
    "logreg = LogisticRegression(random_state = 20, class_weight = 'balanced')"
   ]
  },
  {
   "cell_type": "code",
   "execution_count": 33,
   "id": "342381ec",
   "metadata": {},
   "outputs": [
    {
     "data": {
      "text/plain": [
       "LogisticRegression(class_weight='balanced', random_state=20)"
      ]
     },
     "execution_count": 33,
     "metadata": {},
     "output_type": "execute_result"
    }
   ],
   "source": [
    "logreg.fit(X_train, y_train)"
   ]
  },
  {
   "cell_type": "markdown",
   "id": "7b8c08ad",
   "metadata": {},
   "source": [
    "### Predictions and Evaluation\n",
    "Now that we have a model, lets take a look at how it performs. "
   ]
  },
  {
   "cell_type": "code",
   "execution_count": 34,
   "id": "e85859a4",
   "metadata": {},
   "outputs": [
    {
     "name": "stdout",
     "output_type": "stream",
     "text": [
      "              precision    recall  f1-score   support\n",
      "\n",
      "           0       0.87      0.68      0.77     66150\n",
      "           1       0.45      0.73      0.56     23986\n",
      "\n",
      "    accuracy                           0.69     90136\n",
      "   macro avg       0.66      0.70      0.66     90136\n",
      "weighted avg       0.76      0.69      0.71     90136\n",
      "\n"
     ]
    }
   ],
   "source": [
    "y_hat_test = logreg.predict(X_test)\n",
    "y_hat_train = logreg.predict(X_train)\n",
    "print(classification_report(y_train, y_hat_train))"
   ]
  },
  {
   "cell_type": "code",
   "execution_count": 35,
   "id": "23c822ca",
   "metadata": {},
   "outputs": [
    {
     "name": "stdout",
     "output_type": "stream",
     "text": [
      "              precision    recall  f1-score   support\n",
      "\n",
      "           0       0.87      0.68      0.77     22051\n",
      "           1       0.45      0.73      0.56      7995\n",
      "\n",
      "    accuracy                           0.69     30046\n",
      "   macro avg       0.66      0.70      0.66     30046\n",
      "weighted avg       0.76      0.69      0.71     30046\n",
      "\n"
     ]
    }
   ],
   "source": [
    "print(classification_report(y_test, y_hat_test))"
   ]
  },
  {
   "cell_type": "code",
   "execution_count": 36,
   "id": "47f0431d",
   "metadata": {},
   "outputs": [],
   "source": [
    "acc.append(0.73)"
   ]
  },
  {
   "cell_type": "markdown",
   "id": "67fd4a51",
   "metadata": {},
   "source": [
    "##  Naive_bayes Model"
   ]
  },
  {
   "cell_type": "markdown",
   "id": "072c3bef",
   "metadata": {},
   "source": [
    "### Train the Model"
   ]
  },
  {
   "cell_type": "code",
   "execution_count": 37,
   "id": "55293657",
   "metadata": {},
   "outputs": [
    {
     "data": {
      "text/plain": [
       "GaussianNB()"
      ]
     },
     "execution_count": 37,
     "metadata": {},
     "output_type": "execute_result"
    }
   ],
   "source": [
    "gnb = GaussianNB()\n",
    "gnb.fit(X_train, y_train) "
   ]
  },
  {
   "cell_type": "markdown",
   "id": "a4ab869a",
   "metadata": {},
   "source": [
    "### Predictions and Evaluation"
   ]
  },
  {
   "cell_type": "code",
   "execution_count": 38,
   "id": "2e81e20f",
   "metadata": {},
   "outputs": [
    {
     "name": "stdout",
     "output_type": "stream",
     "text": [
      "GNB's Accuracy:0.7505158756573255\n"
     ]
    }
   ],
   "source": [
    "yhat = gnb.predict(X_test)\n",
    "gnb_score=metrics.accuracy_score(y_test, yhat)\n",
    "print(\"GNB's Accuracy:{0}\".format(metrics.accuracy_score(y_test, yhat)))"
   ]
  },
  {
   "cell_type": "code",
   "execution_count": 39,
   "id": "42be40fa",
   "metadata": {},
   "outputs": [
    {
     "data": {
      "text/plain": [
       "<sklearn.metrics._plot.confusion_matrix.ConfusionMatrixDisplay at 0x1b0814dac40>"
      ]
     },
     "execution_count": 39,
     "metadata": {},
     "output_type": "execute_result"
    },
    {
     "data": {
      "image/png": "[encoded data removed]",
      "text/plain": [
       "<Figure size 432x288 with 2 Axes>"
      ]
     },
     "metadata": {
      "needs_background": "light"
     },
     "output_type": "display_data"
    }
   ],
   "source": [
    "plot_confusion_matrix(gnb, X_test, y_test)"
   ]
  },
  {
   "cell_type": "code",
   "execution_count": 40,
   "id": "54f43995",
   "metadata": {},
   "outputs": [],
   "source": [
    "acc.append(0.75)"
   ]
  },
  {
   "cell_type": "markdown",
   "id": "47acbabc",
   "metadata": {},
   "source": [
    "##  KNN Model"
   ]
  },
  {
   "cell_type": "markdown",
   "id": "de132d18",
   "metadata": {},
   "source": [
    "### Train the Model"
   ]
  },
  {
   "cell_type": "code",
   "execution_count": 41,
   "id": "7a8b8e29",
   "metadata": {},
   "outputs": [],
   "source": [
    "# from sklearn.neighbors import KNeighborsClassifier\n",
    "# from sklearn import metrics\n",
    "\n",
    "# for i in range(1,25):\n",
    "    \n",
    "#     neigh=KNeighborsClassifier(n_neighbors = i).fit(X_train,y_train)\n",
    "#     yhat = neigh.predict(X_test)\n",
    "#     KNN_score=metrics.accuracy_score(y_test, yhat)\n",
    "#     print(\"Train set Accuracy at {} is {}  \".format(i,metrics.accuracy_score(y_train, neigh.predict(X_train))))\n",
    "#     print(\"Test set Accuracy at {} is {}\".format(i,KNN_score))\n",
    "#     print(\"\\n\")"
   ]
  },
  {
   "cell_type": "markdown",
   "id": "ef2da1ea",
   "metadata": {},
   "source": [
    "Running Result:\n",
    "\n",
    "Train set Accuracy at 1 is 0.9211524806958374  \n",
    "Test set Accuracy at 1 is 0.6827198295946216\n",
    "\n",
    "\n",
    "Train set Accuracy at 2 is 0.8264955178840863  \n",
    "Test set Accuracy at 2 is 0.7313785528855754\n",
    "\n",
    "\n",
    "Train set Accuracy at 3 is 0.8343170320404721  \n",
    "Test set Accuracy at 3 is 0.7132064168275312\n",
    "\n",
    "\n",
    "Train set Accuracy at 4 is 0.8053607881423627  \n",
    "Test set Accuracy at 4 is 0.7398988218065633\n",
    "\n",
    "\n",
    "Train set Accuracy at 5 is 0.8097652436318452  \n",
    "Test set Accuracy at 5 is 0.7306463422751781\n",
    "\n",
    "\n",
    "Train set Accuracy at 6 is 0.7947434987130558  \n",
    "Test set Accuracy at 6 is 0.7419956067363376\n",
    "\n",
    "\n",
    "Train set Accuracy at 7 is 0.7957974616135617  \n",
    "Test set Accuracy at 7 is 0.7375357784730081\n",
    "\n",
    "\n",
    "Train set Accuracy at 8 is 0.786644625898642  \n",
    "Test set Accuracy at 8 is 0.7449577314783998\n",
    "\n",
    "\n",
    "Train set Accuracy at 9 is 0.7887969290849384  \n",
    "Test set Accuracy at 9 is 0.7446249084736737\n",
    "\n",
    "\n",
    "Train set Accuracy at 10 is 0.7830833407295642  \n",
    "Test set Accuracy at 10 is 0.7494175597417293\n",
    "\n",
    "\n",
    "Train set Accuracy at 11 is 0.7846254548681991  \n",
    "Test set Accuracy at 11 is 0.7463888703987219\n",
    "\n",
    "\n",
    "Train set Accuracy at 12 is 0.7795553385994497  \n",
    "Test set Accuracy at 12 is 0.7506822871596884\n",
    "\n",
    "\n",
    "Train set Accuracy at 13 is 0.7810974527380846  \n",
    "Test set Accuracy at 13 is 0.7510151101644146\n",
    "\n",
    "\n",
    "Train set Accuracy at 14 is 0.7762381290494365  \n",
    "Test set Accuracy at 14 is 0.753111895094189\n",
    "\n",
    "\n",
    "Train set Accuracy at 15 is 0.7788563947812195  \n",
    "Test set Accuracy at 15 is 0.7522798375823737\n",
    "\n",
    "\n",
    "Train set Accuracy at 16 is 0.7742411467116358  \n",
    "Test set Accuracy at 16 is 0.752845636690408\n",
    "\n",
    "\n",
    "Train set Accuracy at 17 is 0.7769370728676667  \n",
    "Test set Accuracy at 17 is 0.7514144977700858\n",
    "\n",
    "\n",
    "Train set Accuracy at 18 is 0.7728543534214964  \n",
    "Test set Accuracy at 18 is 0.7531451773946615\n",
    "\n",
    "\n",
    "Train set Accuracy at 19 is 0.7748402414129759  \n",
    "Test set Accuracy at 19 is 0.7531784596951341\n",
    "\n",
    "\n",
    "Train set Accuracy at 20 is 0.7713233336291826  \n",
    "Test set Accuracy at 20 is 0.7537109765026959\n",
    "\n",
    "\n",
    "Train set Accuracy at 21 is 0.7732648442353777  \n",
    "Test set Accuracy at 21 is 0.7524462490847368\n",
    "\n",
    "\n",
    "Train set Accuracy at 22 is 0.770391408538209  \n",
    "Test set Accuracy at 22 is 0.7525460959861545\n",
    "\n",
    "\n",
    "Train set Accuracy at 23 is 0.7719113339842016  \n",
    "Test set Accuracy at 23 is 0.7536776942022233\n",
    "\n",
    "\n",
    "Train set Accuracy at 24 is 0.7697479364515842  \n",
    "Test set Accuracy at 24 is 0.752845636690408"
   ]
  },
  {
   "cell_type": "markdown",
   "id": "5271ff6e",
   "metadata": {},
   "source": [
    "### Predictions and Evaluation"
   ]
  },
  {
   "cell_type": "markdown",
   "id": "8861e67e",
   "metadata": {},
   "source": [
    "at n_neighbours=12 we are getting max train and test accuracy i.e, 78% and 75% respectively."
   ]
  },
  {
   "cell_type": "code",
   "execution_count": 42,
   "id": "1cf62d0b",
   "metadata": {},
   "outputs": [],
   "source": [
    "acc.append(0.75)"
   ]
  },
  {
   "cell_type": "markdown",
   "id": "e6994adc",
   "metadata": {},
   "source": [
    "##  Decision Tree model"
   ]
  },
  {
   "cell_type": "markdown",
   "id": "da7e8fcd",
   "metadata": {},
   "source": [
    "### Train the Model"
   ]
  },
  {
   "cell_type": "code",
   "execution_count": 43,
   "id": "76fe1de4",
   "metadata": {},
   "outputs": [
    {
     "data": {
      "text/plain": [
       "DecisionTreeClassifier()"
      ]
     },
     "execution_count": 43,
     "metadata": {},
     "output_type": "execute_result"
    }
   ],
   "source": [
    "dt = DecisionTreeClassifier()\n",
    "#min_sample_leaf, the most common stopping procedure is to use a minimum count on the number on the number of training instances assigned to each leaf node.\n",
    "dt.fit(X_train, y_train)"
   ]
  },
  {
   "cell_type": "markdown",
   "id": "a70bcf02",
   "metadata": {},
   "source": [
    "### Predictions and Evaluation"
   ]
  },
  {
   "cell_type": "code",
   "execution_count": 44,
   "id": "beef4f3e",
   "metadata": {},
   "outputs": [
    {
     "data": {
      "text/plain": [
       "array([0, 1, 0, ..., 0, 0, 0])"
      ]
     },
     "execution_count": 44,
     "metadata": {},
     "output_type": "execute_result"
    }
   ],
   "source": [
    "y_pred = dt.predict(X_test)\n",
    "y_pred"
   ]
  },
  {
   "cell_type": "code",
   "execution_count": 45,
   "id": "ea5bd0f9",
   "metadata": {},
   "outputs": [
    {
     "name": "stdout",
     "output_type": "stream",
     "text": [
      "Accuracy: 0.7078146841509685\n"
     ]
    }
   ],
   "source": [
    "dt_score = accuracy_score(y_test, y_pred)\n",
    "print(\"Accuracy: {0}\".format(dt_score))"
   ]
  },
  {
   "cell_type": "code",
   "execution_count": 46,
   "id": "b0ea1dbb",
   "metadata": {},
   "outputs": [
    {
     "data": {
      "text/plain": [
       "<sklearn.metrics._plot.confusion_matrix.ConfusionMatrixDisplay at 0x1b081757a30>"
      ]
     },
     "execution_count": 46,
     "metadata": {},
     "output_type": "execute_result"
    },
    {
     "data": {
      "image/png": "[encoded data removed]",
      "text/plain": [
       "<Figure size 432x288 with 2 Axes>"
      ]
     },
     "metadata": {
      "needs_background": "light"
     },
     "output_type": "display_data"
    }
   ],
   "source": [
    "plot_confusion_matrix(dt, X_test, y_test)"
   ]
  },
  {
   "cell_type": "code",
   "execution_count": 47,
   "id": "066fdd79",
   "metadata": {},
   "outputs": [],
   "source": [
    "acc.append(0.71)"
   ]
  },
  {
   "cell_type": "markdown",
   "id": "a9fe8da7",
   "metadata": {},
   "source": [
    "### Feature Importances"
   ]
  },
  {
   "cell_type": "code",
   "execution_count": 48,
   "id": "4e76060a",
   "metadata": {},
   "outputs": [],
   "source": [
    "# let's create a dictionary of features and their importance values\n",
    "feat_dict= {}\n",
    "for col, val in sorted(zip(X_train.columns, dt.feature_importances_),key=lambda x:x[1],reverse=True):\n",
    "  feat_dict[col]=val"
   ]
  },
  {
   "cell_type": "code",
   "execution_count": 49,
   "id": "cd3a5d57",
   "metadata": {},
   "outputs": [],
   "source": [
    "feat_df = pd.DataFrame({'Feature':feat_dict.keys(),'Importance':feat_dict.values()})"
   ]
  },
  {
   "cell_type": "code",
   "execution_count": 50,
   "id": "82589b7a",
   "metadata": {},
   "outputs": [
    {
     "data": {
      "text/html": [
       "<div>\n",
       "<style scoped>\n",
       "    .dataframe tbody tr th:only-of-type {\n",
       "        vertical-align: middle;\n",
       "    }\n",
       "\n",
       "    .dataframe tbody tr th {\n",
       "        vertical-align: top;\n",
       "    }\n",
       "\n",
       "    .dataframe thead th {\n",
       "        text-align: right;\n",
       "    }\n",
       "</style>\n",
       "<table border=\"1\" class=\"dataframe\">\n",
       "  <thead>\n",
       "    <tr style=\"text-align: right;\">\n",
       "      <th></th>\n",
       "      <th>Feature</th>\n",
       "      <th>Importance</th>\n",
       "    </tr>\n",
       "  </thead>\n",
       "  <tbody>\n",
       "    <tr>\n",
       "      <th>0</th>\n",
       "      <td>age</td>\n",
       "      <td>0.326472</td>\n",
       "    </tr>\n",
       "    <tr>\n",
       "      <th>1</th>\n",
       "      <td>date_Difference</td>\n",
       "      <td>0.210370</td>\n",
       "    </tr>\n",
       "    <tr>\n",
       "      <th>2</th>\n",
       "      <td>covid_res</td>\n",
       "      <td>0.080466</td>\n",
       "    </tr>\n",
       "    <tr>\n",
       "      <th>3</th>\n",
       "      <td>contact_other_covid</td>\n",
       "      <td>0.062026</td>\n",
       "    </tr>\n",
       "    <tr>\n",
       "      <th>4</th>\n",
       "      <td>intubed</td>\n",
       "      <td>0.053910</td>\n",
       "    </tr>\n",
       "    <tr>\n",
       "      <th>5</th>\n",
       "      <td>obesity</td>\n",
       "      <td>0.052348</td>\n",
       "    </tr>\n",
       "    <tr>\n",
       "      <th>6</th>\n",
       "      <td>hypertension</td>\n",
       "      <td>0.047543</td>\n",
       "    </tr>\n",
       "    <tr>\n",
       "      <th>7</th>\n",
       "      <td>sex</td>\n",
       "      <td>0.045684</td>\n",
       "    </tr>\n",
       "    <tr>\n",
       "      <th>8</th>\n",
       "      <td>diabetes</td>\n",
       "      <td>0.044974</td>\n",
       "    </tr>\n",
       "    <tr>\n",
       "      <th>9</th>\n",
       "      <td>pneumonia</td>\n",
       "      <td>0.042069</td>\n",
       "    </tr>\n",
       "    <tr>\n",
       "      <th>10</th>\n",
       "      <td>tobacco</td>\n",
       "      <td>0.034137</td>\n",
       "    </tr>\n",
       "  </tbody>\n",
       "</table>\n",
       "</div>"
      ],
      "text/plain": [
       "                Feature  Importance\n",
       "0                   age    0.326472\n",
       "1       date_Difference    0.210370\n",
       "2             covid_res    0.080466\n",
       "3   contact_other_covid    0.062026\n",
       "4               intubed    0.053910\n",
       "5               obesity    0.052348\n",
       "6          hypertension    0.047543\n",
       "7                   sex    0.045684\n",
       "8              diabetes    0.044974\n",
       "9             pneumonia    0.042069\n",
       "10              tobacco    0.034137"
      ]
     },
     "execution_count": 50,
     "metadata": {},
     "output_type": "execute_result"
    }
   ],
   "source": [
    "feat_df"
   ]
  },
  {
   "cell_type": "markdown",
   "id": "8f7351dc",
   "metadata": {},
   "source": [
    "##  SVM"
   ]
  },
  {
   "cell_type": "markdown",
   "id": "d1cba5de",
   "metadata": {},
   "source": [
    "### Train the Model"
   ]
  },
  {
   "cell_type": "markdown",
   "id": "07173177",
   "metadata": {},
   "source": [
    "Running cost 10 mins, record result below"
   ]
  },
  {
   "cell_type": "code",
   "execution_count": 51,
   "id": "680769c1",
   "metadata": {},
   "outputs": [],
   "source": [
    "# from sklearn import svm\n",
    "# supvm = svm.SVC(kernel='rbf')\n",
    "# supvm.fit(X_train, y_train) "
   ]
  },
  {
   "cell_type": "markdown",
   "id": "645bcada",
   "metadata": {},
   "source": [
    "### Predictions and Evaluation"
   ]
  },
  {
   "cell_type": "code",
   "execution_count": 52,
   "id": "1c971df0",
   "metadata": {},
   "outputs": [],
   "source": [
    "# yhat = supvm.predict(X_test)\n",
    "# svm_score=metrics.accuracy_score(y_test, yhat)\n",
    "# print(\"SVM's Accuracy:{0}\".format(metrics.accuracy_score(y_test, yhat)))"
   ]
  },
  {
   "cell_type": "markdown",
   "id": "e9674e6b",
   "metadata": {},
   "source": [
    "Result: SVM's Accuracy:0.741962324435865"
   ]
  },
  {
   "cell_type": "code",
   "execution_count": 53,
   "id": "28f01792",
   "metadata": {},
   "outputs": [],
   "source": [
    "acc.append(0.74)"
   ]
  },
  {
   "cell_type": "markdown",
   "id": "ea56dbe8",
   "metadata": {},
   "source": [
    "## Random Forest Classifier"
   ]
  },
  {
   "cell_type": "markdown",
   "id": "294d07c8",
   "metadata": {},
   "source": [
    "### Train the Model"
   ]
  },
  {
   "cell_type": "code",
   "execution_count": 54,
   "id": "5d4bba05",
   "metadata": {},
   "outputs": [
    {
     "data": {
      "text/plain": [
       "RandomForestClassifier(n_estimators=50)"
      ]
     },
     "execution_count": 54,
     "metadata": {},
     "output_type": "execute_result"
    }
   ],
   "source": [
    "from sklearn.ensemble import RandomForestClassifier\n",
    "Random_forest = RandomForestClassifier(n_estimators=50)\n",
    "Random_forest.fit(X_train,y_train)"
   ]
  },
  {
   "cell_type": "markdown",
   "id": "914efd22",
   "metadata": {},
   "source": [
    "### Predictions and Evaluation"
   ]
  },
  {
   "cell_type": "code",
   "execution_count": 55,
   "id": "c997672f",
   "metadata": {},
   "outputs": [
    {
     "name": "stdout",
     "output_type": "stream",
     "text": [
      "Random Forest Score : 0.7258204087066498\n"
     ]
    }
   ],
   "source": [
    "randomForest_predict = Random_forest.predict(X_test)\n",
    "randomForest_score = metrics.accuracy_score(y_test, randomForest_predict)\n",
    "print(\"Random Forest Score :\",randomForest_score)"
   ]
  },
  {
   "cell_type": "code",
   "execution_count": 56,
   "id": "7f5d8d26",
   "metadata": {},
   "outputs": [
    {
     "data": {
      "text/plain": [
       "<sklearn.metrics._plot.confusion_matrix.ConfusionMatrixDisplay at 0x1b0815fafd0>"
      ]
     },
     "execution_count": 56,
     "metadata": {},
     "output_type": "execute_result"
    },
    {
     "data": {
      "image/png": "[encoded data removed]",
      "text/plain": [
       "<Figure size 432x288 with 2 Axes>"
      ]
     },
     "metadata": {
      "needs_background": "light"
     },
     "output_type": "display_data"
    }
   ],
   "source": [
    "plot_confusion_matrix(Random_forest, X_test, y_test)"
   ]
  },
  {
   "cell_type": "code",
   "execution_count": 57,
   "id": "e2a83da9",
   "metadata": {},
   "outputs": [],
   "source": [
    "acc.append(0.73)"
   ]
  },
  {
   "cell_type": "markdown",
   "id": "cdc327c7",
   "metadata": {},
   "source": [
    "## Gradient Boosting"
   ]
  },
  {
   "cell_type": "markdown",
   "id": "b1ee1d05",
   "metadata": {},
   "source": [
    "### Train the Model"
   ]
  },
  {
   "cell_type": "code",
   "execution_count": 58,
   "id": "18041547",
   "metadata": {},
   "outputs": [
    {
     "data": {
      "text/plain": [
       "GradientBoostingClassifier(max_depth=6, min_samples_split=100, n_estimators=150,\n",
       "                           random_state=100)"
      ]
     },
     "execution_count": 58,
     "metadata": {},
     "output_type": "execute_result"
    }
   ],
   "source": [
    "gbk = GradientBoostingClassifier(random_state=100, n_estimators=150,min_samples_split=100, max_depth=6)\n",
    "gbk.fit(X_train, y_train)"
   ]
  },
  {
   "cell_type": "markdown",
   "id": "9f691471",
   "metadata": {},
   "source": [
    "### Predictions and Evaluation"
   ]
  },
  {
   "cell_type": "code",
   "execution_count": 59,
   "id": "14f3b2be",
   "metadata": {},
   "outputs": [
    {
     "name": "stdout",
     "output_type": "stream",
     "text": [
      "Gradient Boosting Score : 0.7735805098848433\n"
     ]
    }
   ],
   "source": [
    "gbk_predict = gbk.predict(X_test)\n",
    "gbk_score = gbk.score(X_test,y_test)\n",
    "#print(\"Gradient Boosting Prediction :\",gbk_predict)\n",
    "print(\"Gradient Boosting Score :\",gbk_score)"
   ]
  },
  {
   "cell_type": "code",
   "execution_count": 60,
   "id": "f09343ac",
   "metadata": {},
   "outputs": [
    {
     "data": {
      "text/plain": [
       "<sklearn.metrics._plot.confusion_matrix.ConfusionMatrixDisplay at 0x1b080fbe6a0>"
      ]
     },
     "execution_count": 60,
     "metadata": {},
     "output_type": "execute_result"
    },
    {
     "data": {
      "text/plain": [
       "<Figure size 1440x1440 with 0 Axes>"
      ]
     },
     "metadata": {},
     "output_type": "display_data"
    },
    {
     "data": {
      "image/png": "[encoded data removed]",
      "text/plain": [
       "<Figure size 432x288 with 2 Axes>"
      ]
     },
     "metadata": {
      "needs_background": "light"
     },
     "output_type": "display_data"
    }
   ],
   "source": [
    "plt.figure(figsize=(20,20))\n",
    "plot_confusion_matrix(gbk, X_test, y_test)"
   ]
  },
  {
   "cell_type": "code",
   "execution_count": 61,
   "id": "678575b7",
   "metadata": {},
   "outputs": [],
   "source": [
    "acc.append(0.77)"
   ]
  },
  {
   "cell_type": "markdown",
   "id": "f8dcc03f",
   "metadata": {},
   "source": [
    "# Conclusion"
   ]
  },
  {
   "cell_type": "code",
   "execution_count": 62,
   "id": "6ee8c57b",
   "metadata": {},
   "outputs": [
    {
     "data": {
      "text/plain": [
       "[0.73, 0.75, 0.75, 0.71, 0.74, 0.73, 0.77]"
      ]
     },
     "execution_count": 62,
     "metadata": {},
     "output_type": "execute_result"
    }
   ],
   "source": [
    "acc"
   ]
  },
  {
   "cell_type": "code",
   "execution_count": 63,
   "id": "fc4512de",
   "metadata": {},
   "outputs": [],
   "source": [
    "algo_name = ['Logistic Regression','Naive Bayes','KNN','Decision Tree','SVM','Random Forest','Gradient Boosting']\n",
    "acc=np.array(acc)"
   ]
  },
  {
   "cell_type": "code",
   "execution_count": 64,
   "id": "bedcde79",
   "metadata": {},
   "outputs": [],
   "source": [
    "result = pd.DataFrame(list(zip(acc, algo_name)),columns =['acc', 'algo_name'])"
   ]
  },
  {
   "cell_type": "code",
   "execution_count": 65,
   "id": "89fe3c8b",
   "metadata": {},
   "outputs": [
    {
     "data": {
      "text/html": [
       "<div>\n",
       "<style scoped>\n",
       "    .dataframe tbody tr th:only-of-type {\n",
       "        vertical-align: middle;\n",
       "    }\n",
       "\n",
       "    .dataframe tbody tr th {\n",
       "        vertical-align: top;\n",
       "    }\n",
       "\n",
       "    .dataframe thead th {\n",
       "        text-align: right;\n",
       "    }\n",
       "</style>\n",
       "<table border=\"1\" class=\"dataframe\">\n",
       "  <thead>\n",
       "    <tr style=\"text-align: right;\">\n",
       "      <th></th>\n",
       "      <th>acc</th>\n",
       "      <th>algo_name</th>\n",
       "    </tr>\n",
       "  </thead>\n",
       "  <tbody>\n",
       "    <tr>\n",
       "      <th>0</th>\n",
       "      <td>0.73</td>\n",
       "      <td>Logistic Regression</td>\n",
       "    </tr>\n",
       "    <tr>\n",
       "      <th>1</th>\n",
       "      <td>0.75</td>\n",
       "      <td>Naive Bayes</td>\n",
       "    </tr>\n",
       "    <tr>\n",
       "      <th>2</th>\n",
       "      <td>0.75</td>\n",
       "      <td>KNN</td>\n",
       "    </tr>\n",
       "    <tr>\n",
       "      <th>3</th>\n",
       "      <td>0.71</td>\n",
       "      <td>Decision Tree</td>\n",
       "    </tr>\n",
       "    <tr>\n",
       "      <th>4</th>\n",
       "      <td>0.74</td>\n",
       "      <td>SVM</td>\n",
       "    </tr>\n",
       "    <tr>\n",
       "      <th>5</th>\n",
       "      <td>0.73</td>\n",
       "      <td>Random Forest</td>\n",
       "    </tr>\n",
       "    <tr>\n",
       "      <th>6</th>\n",
       "      <td>0.77</td>\n",
       "      <td>Gradient Boosting</td>\n",
       "    </tr>\n",
       "  </tbody>\n",
       "</table>\n",
       "</div>"
      ],
      "text/plain": [
       "    acc            algo_name\n",
       "0  0.73  Logistic Regression\n",
       "1  0.75          Naive Bayes\n",
       "2  0.75                  KNN\n",
       "3  0.71        Decision Tree\n",
       "4  0.74                  SVM\n",
       "5  0.73        Random Forest\n",
       "6  0.77    Gradient Boosting"
      ]
     },
     "execution_count": 65,
     "metadata": {},
     "output_type": "execute_result"
    }
   ],
   "source": [
    "result"
   ]
  },
  {
   "cell_type": "code",
   "execution_count": 66,
   "id": "97b3716c",
   "metadata": {},
   "outputs": [
    {
     "data": {
      "text/html": [
       "<div>\n",
       "<style scoped>\n",
       "    .dataframe tbody tr th:only-of-type {\n",
       "        vertical-align: middle;\n",
       "    }\n",
       "\n",
       "    .dataframe tbody tr th {\n",
       "        vertical-align: top;\n",
       "    }\n",
       "\n",
       "    .dataframe thead th {\n",
       "        text-align: right;\n",
       "    }\n",
       "</style>\n",
       "<table border=\"1\" class=\"dataframe\">\n",
       "  <thead>\n",
       "    <tr style=\"text-align: right;\">\n",
       "      <th></th>\n",
       "      <th>acc</th>\n",
       "      <th>algo_name</th>\n",
       "    </tr>\n",
       "  </thead>\n",
       "  <tbody>\n",
       "    <tr>\n",
       "      <th>3</th>\n",
       "      <td>0.71</td>\n",
       "      <td>Decision Tree</td>\n",
       "    </tr>\n",
       "    <tr>\n",
       "      <th>0</th>\n",
       "      <td>0.73</td>\n",
       "      <td>Logistic Regression</td>\n",
       "    </tr>\n",
       "    <tr>\n",
       "      <th>5</th>\n",
       "      <td>0.73</td>\n",
       "      <td>Random Forest</td>\n",
       "    </tr>\n",
       "    <tr>\n",
       "      <th>4</th>\n",
       "      <td>0.74</td>\n",
       "      <td>SVM</td>\n",
       "    </tr>\n",
       "    <tr>\n",
       "      <th>1</th>\n",
       "      <td>0.75</td>\n",
       "      <td>Naive Bayes</td>\n",
       "    </tr>\n",
       "    <tr>\n",
       "      <th>2</th>\n",
       "      <td>0.75</td>\n",
       "      <td>KNN</td>\n",
       "    </tr>\n",
       "    <tr>\n",
       "      <th>6</th>\n",
       "      <td>0.77</td>\n",
       "      <td>Gradient Boosting</td>\n",
       "    </tr>\n",
       "  </tbody>\n",
       "</table>\n",
       "</div>"
      ],
      "text/plain": [
       "    acc            algo_name\n",
       "3  0.71        Decision Tree\n",
       "0  0.73  Logistic Regression\n",
       "5  0.73        Random Forest\n",
       "4  0.74                  SVM\n",
       "1  0.75          Naive Bayes\n",
       "2  0.75                  KNN\n",
       "6  0.77    Gradient Boosting"
      ]
     },
     "execution_count": 66,
     "metadata": {},
     "output_type": "execute_result"
    }
   ],
   "source": [
    "result.sort_values('acc')"
   ]
  },
  {
   "cell_type": "code",
   "execution_count": 67,
   "id": "15e1ebcd",
   "metadata": {},
   "outputs": [
    {
     "data": {
      "text/plain": [
       "Text(0, 0.5, 'Algorithm Name')"
      ]
     },
     "execution_count": 67,
     "metadata": {},
     "output_type": "execute_result"
    },
    {
     "data": {
      "image/png": "[encoded data removed]",
      "text/plain": [
       "<Figure size 720x576 with 1 Axes>"
      ]
     },
     "metadata": {
      "needs_background": "light"
     },
     "output_type": "display_data"
    }
   ],
   "source": [
    "from numpy import median\n",
    "plt.figure(figsize=(10,8))\n",
    "sns.barplot(y='acc', x='algo_name', estimator=median,palette=\"Blues_d\", data = result)\n",
    "plt.xlabel('Accuracy',size=30)\n",
    "plt.xticks(rotation=45)\n",
    "plt.ylabel('Algorithm Name',size=30)\n",
    "\n",
    "# sns.barplot(x = 'class', y = 'fare', hue = 'sex', data = df)"
   ]
  },
  {
   "cell_type": "markdown",
   "id": "ddd952c1",
   "metadata": {},
   "source": [
    "From different models, we can conclude that Gradient Boosting provide better accuracy among these models. Accuracy is 0.77."
   ]
  },
  {
   "cell_type": "markdown",
   "id": "fe47094a",
   "metadata": {},
   "source": [
    "# Future work"
   ]
  },
  {
   "cell_type": "markdown",
   "id": "c1ea3201",
   "metadata": {},
   "source": [
    "1. With bigger dataset and more features included, we would be able to generate a better model with higher accuracy.\n",
    "2. As the vaccination been given to the population, we may able to trace the efficiency along the time and also reply it to different group of people.\n",
    "3. Some model really cost long time to have result, I want to adjust it or find better mathine learning model to fit the columns. "
   ]
  },
  {
   "cell_type": "code",
   "execution_count": null,
   "id": "baa90a80",
   "metadata": {},
   "outputs": [],
   "source": []
  }
 ],
 "metadata": {
  "kernelspec": {
   "display_name": "gputest",
   "language": "python",
   "name": "gputest"
  },
  "language_info": {
   "codemirror_mode": {
    "name": "ipython",
    "version": 3
   },
   "file_extension": ".py",
   "mimetype": "text/x-python",
   "name": "python",
   "nbconvert_exporter": "python",
   "pygments_lexer": "ipython3",
   "version": "3.9.2"
  },
  "toc": {
   "base_numbering": 1,
   "nav_menu": {},
   "number_sections": true,
   "sideBar": true,
   "skip_h1_title": false,
   "title_cell": "Table of Contents",
   "title_sidebar": "Contents",
   "toc_cell": false,
   "toc_position": {
    "height": "calc(100% - 180px)",
    "left": "10px",
    "top": "150px",
    "width": "165px"
   },
   "toc_section_display": true,
   "toc_window_display": false
  }
 },
 "nbformat": 4,
 "nbformat_minor": 5
}
