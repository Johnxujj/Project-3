{
 "cells": [
  {
   "cell_type": "code",
   "execution_count": 51,
   "id": "dbcf4259",
   "metadata": {},
   "outputs": [
    {
     "name": "stdout",
     "output_type": "stream",
     "text": [
      "TensorFlow Version: 2.7.0\n"
     ]
    }
   ],
   "source": [
    "from distutils.version import LooseVersion\n",
    "import warnings\n",
    "import tensorflow as tf\n",
    "\n",
    "# Check TensorFlow Version\n",
    "assert LooseVersion(tf.__version__) >= LooseVersion('1.0'), 'Please use TensorFlow version 1.0 or newer.  You are using {}'.format(tf.__version__)\n",
    "print('TensorFlow Version: {}'.format(tf.__version__))\n",
    "\n",
    "# Check for a GPU\n",
    "if not tf.test.gpu_device_name():\n",
    "    warnings.warn('No GPU found. Please ensure you have installed TensorFlow correctly')\n",
    "else:\n",
    "    print('Default GPU Device: {}'.format(tf.test.gpu_device_name()))"
   ]
  },
  {
   "cell_type": "code",
   "execution_count": 1,
   "id": "102ed675",
   "metadata": {},
   "outputs": [],
   "source": [
    "import pandas as pd\n",
    "import numpy as np\n",
    "import warnings\n",
    "warnings.filterwarnings('ignore')\n",
    "import matplotlib.pyplot as plt\n",
    "import seaborn as sns\n",
    "\n",
    "import statsmodels as sm\n",
    "import sklearn.preprocessing as preprocessing\n",
    "from sklearn.linear_model import LogisticRegression\n",
    "from sklearn.model_selection import train_test_split\n",
    "from scipy import stats\n",
    "\n",
    "from sklearn.metrics import classification_report"
   ]
  },
  {
   "cell_type": "code",
   "execution_count": 2,
   "id": "bf6a4c74",
   "metadata": {},
   "outputs": [
    {
     "name": "stdout",
     "output_type": "stream",
     "text": [
      " Volume in drive D is New Volume\n",
      " Volume Serial Number is C649-A6AD\n",
      "\n",
      " Directory of D:\\Flatiron\\Project3\n",
      "\n",
      "01/10/2022  12:21 AM    <DIR>          .\n",
      "12/11/2021  05:55 PM    <DIR>          ..\n",
      "12/19/2021  03:34 PM    <DIR>          .ipynb_checkpoints\n",
      "12/11/2021  05:56 PM        46,684,628 covid.csv\n",
      "01/10/2022  12:21 AM           112,878 Untitled1.ipynb\n",
      "               2 File(s)     46,797,506 bytes\n",
      "               3 Dir(s)  1,564,269,162,496 bytes free\n"
     ]
    }
   ],
   "source": [
    "ls"
   ]
  },
  {
   "cell_type": "markdown",
   "id": "e506b9a0",
   "metadata": {},
   "source": [
    "# Data Loading and cleaning"
   ]
  },
  {
   "cell_type": "code",
   "execution_count": 3,
   "id": "64ef5a9c",
   "metadata": {},
   "outputs": [],
   "source": [
    "df = pd.read_csv('covid.csv')"
   ]
  },
  {
   "cell_type": "code",
   "execution_count": 4,
   "id": "34fcf64c",
   "metadata": {},
   "outputs": [
    {
     "name": "stdout",
     "output_type": "stream",
     "text": [
      "<class 'pandas.core.frame.DataFrame'>\n",
      "RangeIndex: 566602 entries, 0 to 566601\n",
      "Data columns (total 23 columns):\n",
      " #   Column               Non-Null Count   Dtype \n",
      "---  ------               --------------   ----- \n",
      " 0   id                   566602 non-null  object\n",
      " 1   sex                  566602 non-null  int64 \n",
      " 2   patient_type         566602 non-null  int64 \n",
      " 3   entry_date           566602 non-null  object\n",
      " 4   date_symptoms        566602 non-null  object\n",
      " 5   date_died            566602 non-null  object\n",
      " 6   intubed              566602 non-null  int64 \n",
      " 7   pneumonia            566602 non-null  int64 \n",
      " 8   age                  566602 non-null  int64 \n",
      " 9   pregnancy            566602 non-null  int64 \n",
      " 10  diabetes             566602 non-null  int64 \n",
      " 11  copd                 566602 non-null  int64 \n",
      " 12  asthma               566602 non-null  int64 \n",
      " 13  inmsupr              566602 non-null  int64 \n",
      " 14  hypertension         566602 non-null  int64 \n",
      " 15  other_disease        566602 non-null  int64 \n",
      " 16  cardiovascular       566602 non-null  int64 \n",
      " 17  obesity              566602 non-null  int64 \n",
      " 18  renal_chronic        566602 non-null  int64 \n",
      " 19  tobacco              566602 non-null  int64 \n",
      " 20  contact_other_covid  566602 non-null  int64 \n",
      " 21  covid_res            566602 non-null  int64 \n",
      " 22  icu                  566602 non-null  int64 \n",
      "dtypes: int64(19), object(4)\n",
      "memory usage: 99.4+ MB\n"
     ]
    }
   ],
   "source": [
    "df.info()"
   ]
  },
  {
   "cell_type": "code",
   "execution_count": 5,
   "id": "3c2d306b",
   "metadata": {},
   "outputs": [],
   "source": [
    "# for c in df.columns:\n",
    "#     print (\"---- %s ---\" % c)\n",
    "#     print (df[c].value_counts())"
   ]
  },
  {
   "cell_type": "markdown",
   "id": "3eeef562",
   "metadata": {},
   "source": [
    "## Sex"
   ]
  },
  {
   "cell_type": "code",
   "execution_count": 6,
   "id": "d9323a53",
   "metadata": {},
   "outputs": [
    {
     "data": {
      "text/plain": [
       "<AxesSubplot:>"
      ]
     },
     "execution_count": 6,
     "metadata": {},
     "output_type": "execute_result"
    },
    {
     "data": {
      "image/png": "[encoded data removed]",
      "text/plain": [
       "<Figure size 432x288 with 1 Axes>"
      ]
     },
     "metadata": {
      "needs_background": "light"
     },
     "output_type": "display_data"
    }
   ],
   "source": [
    "df[\"sex\"].value_counts().plot.bar()"
   ]
  },
  {
   "cell_type": "code",
   "execution_count": null,
   "id": "c99f4fb1",
   "metadata": {},
   "outputs": [],
   "source": []
  },
  {
   "cell_type": "code",
   "execution_count": 7,
   "id": "5e9ada42",
   "metadata": {},
   "outputs": [],
   "source": [
    "# Docs says that sex == 1 means male, but then some males are pregnant and no females are pregnant. \n",
    "# Also, all pregnancy data for sex == 2 is NaN, so it seems that sex should be switched, as opposed to pregnant column.\n",
    "df.sex = df.sex.replace([1,2], [2, 1])"
   ]
  },
  {
   "cell_type": "markdown",
   "id": "2b059dc6",
   "metadata": {},
   "source": [
    "## entry_date\tdate_symptoms\tdate_died"
   ]
  },
  {
   "cell_type": "code",
   "execution_count": 8,
   "id": "1d483ff8",
   "metadata": {},
   "outputs": [],
   "source": [
    "df['date_symptoms'] = pd.to_datetime(df['date_symptoms'], format='%d-%m-%Y')\n",
    "df['entry_date'] = pd.to_datetime(df['entry_date'], format='%d-%m-%Y')\n",
    "df['date_Difference'] = (df['entry_date'] - df['date_symptoms']).dt.days\n",
    "df = df.drop(['id', 'entry_date', 'date_symptoms'], axis=1)"
   ]
  },
  {
   "cell_type": "markdown",
   "id": "0113cb2a",
   "metadata": {},
   "source": [
    "## date_died"
   ]
  },
  {
   "cell_type": "code",
   "execution_count": 9,
   "id": "9a67de89",
   "metadata": {},
   "outputs": [
    {
     "data": {
      "text/plain": [
       "0         9999-99-99\n",
       "1         9999-99-99\n",
       "2         9999-99-99\n",
       "3         9999-99-99\n",
       "4         22-04-2020\n",
       "             ...    \n",
       "566597    9999-99-99\n",
       "566598    9999-99-99\n",
       "566599    9999-99-99\n",
       "566600    9999-99-99\n",
       "566601    9999-99-99\n",
       "Name: date_died, Length: 566602, dtype: object"
      ]
     },
     "execution_count": 9,
     "metadata": {},
     "output_type": "execute_result"
    }
   ],
   "source": [
    "df['date_died']"
   ]
  },
  {
   "cell_type": "code",
   "execution_count": 10,
   "id": "1ee54072",
   "metadata": {},
   "outputs": [],
   "source": [
    "df.loc[df['date_died'] == '9999-99-99', 'date_died'] = 0"
   ]
  },
  {
   "cell_type": "code",
   "execution_count": 11,
   "id": "b4747e35",
   "metadata": {},
   "outputs": [],
   "source": [
    "df.loc[df['date_died'] != 0, 'date_died'] = 1"
   ]
  },
  {
   "cell_type": "code",
   "execution_count": 12,
   "id": "b6d8c6e3",
   "metadata": {},
   "outputs": [
    {
     "data": {
      "text/plain": [
       "0    0.936153\n",
       "1    0.063847\n",
       "Name: date_died, dtype: float64"
      ]
     },
     "execution_count": 12,
     "metadata": {},
     "output_type": "execute_result"
    }
   ],
   "source": [
    "df['date_died'].value_counts(normalize = True)"
   ]
  },
  {
   "cell_type": "code",
   "execution_count": 13,
   "id": "153bd750",
   "metadata": {},
   "outputs": [],
   "source": [
    "df = df.rename(columns={\"date_died\": \"survive\"})"
   ]
  },
  {
   "cell_type": "code",
   "execution_count": 14,
   "id": "8a950ef0",
   "metadata": {},
   "outputs": [
    {
     "data": {
      "text/plain": [
       "0    530426\n",
       "1     36176\n",
       "Name: survive, dtype: int64"
      ]
     },
     "execution_count": 14,
     "metadata": {},
     "output_type": "execute_result"
    }
   ],
   "source": [
    "df['survive'].value_counts()"
   ]
  },
  {
   "cell_type": "code",
   "execution_count": 15,
   "id": "ca0b5a1b",
   "metadata": {},
   "outputs": [],
   "source": [
    "df['survive'] = df['survive'].astype(int)"
   ]
  },
  {
   "cell_type": "markdown",
   "id": "303fdb65",
   "metadata": {},
   "source": [
    "## INTUBED"
   ]
  },
  {
   "cell_type": "code",
   "execution_count": 16,
   "id": "f09a09e5",
   "metadata": {},
   "outputs": [],
   "source": [
    "df[\"intubed\"].replace({97: 2, 99: 2}, inplace=True)"
   ]
  },
  {
   "cell_type": "code",
   "execution_count": 17,
   "id": "eea84856",
   "metadata": {},
   "outputs": [
    {
     "data": {
      "text/html": [
       "<div>\n",
       "<style scoped>\n",
       "    .dataframe tbody tr th:only-of-type {\n",
       "        vertical-align: middle;\n",
       "    }\n",
       "\n",
       "    .dataframe tbody tr th {\n",
       "        vertical-align: top;\n",
       "    }\n",
       "\n",
       "    .dataframe thead th {\n",
       "        text-align: right;\n",
       "    }\n",
       "</style>\n",
       "<table border=\"1\" class=\"dataframe\">\n",
       "  <thead>\n",
       "    <tr style=\"text-align: right;\">\n",
       "      <th></th>\n",
       "      <th>intubed</th>\n",
       "    </tr>\n",
       "  </thead>\n",
       "  <tbody>\n",
       "    <tr>\n",
       "      <th>2</th>\n",
       "      <td>556637</td>\n",
       "    </tr>\n",
       "    <tr>\n",
       "      <th>1</th>\n",
       "      <td>9965</td>\n",
       "    </tr>\n",
       "  </tbody>\n",
       "</table>\n",
       "</div>"
      ],
      "text/plain": [
       "   intubed\n",
       "2   556637\n",
       "1     9965"
      ]
     },
     "execution_count": 17,
     "metadata": {},
     "output_type": "execute_result"
    }
   ],
   "source": [
    "df['intubed'].value_counts().to_frame()"
   ]
  },
  {
   "cell_type": "markdown",
   "id": "d5f8dd48",
   "metadata": {},
   "source": [
    "## Pregnancy"
   ]
  },
  {
   "cell_type": "code",
   "execution_count": 18,
   "id": "097287d9",
   "metadata": {},
   "outputs": [],
   "source": [
    "df[\"pregnancy\"].replace({97: 2, 98: 2}, inplace=True)"
   ]
  },
  {
   "cell_type": "markdown",
   "id": "52fab7e5",
   "metadata": {},
   "source": [
    "## contact_other_covid"
   ]
  },
  {
   "cell_type": "code",
   "execution_count": 19,
   "id": "034f306e",
   "metadata": {},
   "outputs": [],
   "source": [
    "df[\"contact_other_covid\"].replace({99: 3}, inplace=True)"
   ]
  },
  {
   "cell_type": "markdown",
   "id": "c947cab6",
   "metadata": {},
   "source": [
    "## ICU"
   ]
  },
  {
   "cell_type": "code",
   "execution_count": 20,
   "id": "5cc0fdbd",
   "metadata": {},
   "outputs": [
    {
     "name": "stdout",
     "output_type": "stream",
     "text": [
      "<class 'pandas.core.frame.DataFrame'>\n",
      "Int64Index: 121788 entries, 2 to 566599\n",
      "Data columns (total 21 columns):\n",
      " #   Column               Non-Null Count   Dtype\n",
      "---  ------               --------------   -----\n",
      " 0   sex                  121788 non-null  int64\n",
      " 1   patient_type         121788 non-null  int64\n",
      " 2   survive              121788 non-null  int32\n",
      " 3   intubed              121788 non-null  int64\n",
      " 4   pneumonia            121788 non-null  int64\n",
      " 5   age                  121788 non-null  int64\n",
      " 6   pregnancy            121788 non-null  int64\n",
      " 7   diabetes             121788 non-null  int64\n",
      " 8   copd                 121788 non-null  int64\n",
      " 9   asthma               121788 non-null  int64\n",
      " 10  inmsupr              121788 non-null  int64\n",
      " 11  hypertension         121788 non-null  int64\n",
      " 12  other_disease        121788 non-null  int64\n",
      " 13  cardiovascular       121788 non-null  int64\n",
      " 14  obesity              121788 non-null  int64\n",
      " 15  renal_chronic        121788 non-null  int64\n",
      " 16  tobacco              121788 non-null  int64\n",
      " 17  contact_other_covid  121788 non-null  int64\n",
      " 18  covid_res            121788 non-null  int64\n",
      " 19  icu                  121788 non-null  int64\n",
      " 20  date_Difference      121788 non-null  int64\n",
      "dtypes: int32(1), int64(20)\n",
      "memory usage: 20.0 MB\n"
     ]
    }
   ],
   "source": [
    "# df[\"icu\"].replace({97: 2, 99: 2}, inplace=True)\n",
    "df=df[df['icu']!=99]\n",
    "df=df[df['icu']!=97]\n",
    "df.info()"
   ]
  },
  {
   "cell_type": "markdown",
   "id": "58f049b6",
   "metadata": {},
   "source": [
    "## Remove rest missing value row"
   ]
  },
  {
   "cell_type": "code",
   "execution_count": 21,
   "id": "03eb6da1",
   "metadata": {},
   "outputs": [],
   "source": [
    "# df = df[(df.pneumonia != 99)]\n",
    "df = df[(df.pneumonia != 99) & (df.diabetes != 98) & (df.copd != 98)]\n",
    "df = df[(df.asthma != 98) & (df.inmsupr != 98) & (df.hypertension != 98)]\n",
    "df = df[(df.other_disease != 98) & (df.cardiovascular != 98) & (df.obesity != 98)]\n",
    "df = df[(df.renal_chronic != 98) & (df.tobacco != 98)]"
   ]
  },
  {
   "cell_type": "code",
   "execution_count": 22,
   "id": "076edf4d",
   "metadata": {},
   "outputs": [],
   "source": [
    "# for c in df.columns:\n",
    "#     print (\"---- %s ---\" % c)\n",
    "#     print (df[c].value_counts())"
   ]
  },
  {
   "cell_type": "code",
   "execution_count": 23,
   "id": "655614d0",
   "metadata": {},
   "outputs": [
    {
     "name": "stdout",
     "output_type": "stream",
     "text": [
      "<class 'pandas.core.frame.DataFrame'>\n",
      "Int64Index: 120182 entries, 2 to 566599\n",
      "Data columns (total 21 columns):\n",
      " #   Column               Non-Null Count   Dtype\n",
      "---  ------               --------------   -----\n",
      " 0   sex                  120182 non-null  int64\n",
      " 1   patient_type         120182 non-null  int64\n",
      " 2   survive              120182 non-null  int32\n",
      " 3   intubed              120182 non-null  int64\n",
      " 4   pneumonia            120182 non-null  int64\n",
      " 5   age                  120182 non-null  int64\n",
      " 6   pregnancy            120182 non-null  int64\n",
      " 7   diabetes             120182 non-null  int64\n",
      " 8   copd                 120182 non-null  int64\n",
      " 9   asthma               120182 non-null  int64\n",
      " 10  inmsupr              120182 non-null  int64\n",
      " 11  hypertension         120182 non-null  int64\n",
      " 12  other_disease        120182 non-null  int64\n",
      " 13  cardiovascular       120182 non-null  int64\n",
      " 14  obesity              120182 non-null  int64\n",
      " 15  renal_chronic        120182 non-null  int64\n",
      " 16  tobacco              120182 non-null  int64\n",
      " 17  contact_other_covid  120182 non-null  int64\n",
      " 18  covid_res            120182 non-null  int64\n",
      " 19  icu                  120182 non-null  int64\n",
      " 20  date_Difference      120182 non-null  int64\n",
      "dtypes: int32(1), int64(20)\n",
      "memory usage: 19.7 MB\n"
     ]
    }
   ],
   "source": [
    "df.info()"
   ]
  },
  {
   "cell_type": "code",
   "execution_count": 24,
   "id": "d01be567",
   "metadata": {},
   "outputs": [
    {
     "data": {
      "text/plain": [
       "sex                    0\n",
       "patient_type           0\n",
       "survive                0\n",
       "intubed                0\n",
       "pneumonia              0\n",
       "age                    0\n",
       "pregnancy              0\n",
       "diabetes               0\n",
       "copd                   0\n",
       "asthma                 0\n",
       "inmsupr                0\n",
       "hypertension           0\n",
       "other_disease          0\n",
       "cardiovascular         0\n",
       "obesity                0\n",
       "renal_chronic          0\n",
       "tobacco                0\n",
       "contact_other_covid    0\n",
       "covid_res              0\n",
       "icu                    0\n",
       "date_Difference        0\n",
       "dtype: int64"
      ]
     },
     "execution_count": 24,
     "metadata": {},
     "output_type": "execute_result"
    }
   ],
   "source": [
    "df.isna().sum() "
   ]
  },
  {
   "cell_type": "code",
   "execution_count": 25,
   "id": "5bb6b5be",
   "metadata": {},
   "outputs": [
    {
     "data": {
      "text/plain": [
       "Text(0.5, 1.0, 'Correlation heatmap')"
      ]
     },
     "execution_count": 25,
     "metadata": {},
     "output_type": "execute_result"
    },
    {
     "data": {
      "image/png": "[encoded data removed]",
      "text/plain": [
       "<Figure size 1080x1080 with 2 Axes>"
      ]
     },
     "metadata": {
      "needs_background": "light"
     },
     "output_type": "display_data"
    }
   ],
   "source": [
    "plt.figure(figsize=(15,15))\n",
    "sns.heatmap(df.corr(),cmap='viridis')\n",
    "plt.title('Correlation heatmap',size=25)"
   ]
  },
  {
   "cell_type": "markdown",
   "id": "df6e3515",
   "metadata": {},
   "source": [
    "# Data split into train set and test set"
   ]
  },
  {
   "cell_type": "code",
   "execution_count": 26,
   "id": "b54db77f",
   "metadata": {},
   "outputs": [],
   "source": [
    "y = df['survive']\n",
    "X = df.drop(['survive'], axis=1)\n",
    "X_train, X_test, y_train, y_test = train_test_split(X, y, stratify = y, random_state=0)"
   ]
  },
  {
   "cell_type": "code",
   "execution_count": 27,
   "id": "a8b02140",
   "metadata": {},
   "outputs": [
    {
     "name": "stdout",
     "output_type": "stream",
     "text": [
      "(90136, 20) (30046, 20) (90136,) (30046,)\n"
     ]
    }
   ],
   "source": [
    "print(X_train.shape, X_test.shape, y_train.shape, y_test.shape)"
   ]
  },
  {
   "cell_type": "markdown",
   "id": "7503cc1b",
   "metadata": {},
   "source": [
    "## Fit a model"
   ]
  },
  {
   "cell_type": "code",
   "execution_count": 28,
   "id": "25f4ab2f",
   "metadata": {},
   "outputs": [],
   "source": [
    "# logreg = LogisticRegression()\n",
    "# model_log = logreg.fit(X_train, y_train)\n",
    "# model_log"
   ]
  },
  {
   "cell_type": "markdown",
   "id": "7b8c08ad",
   "metadata": {},
   "source": [
    "## Predict\n",
    "Now that we have a model, lets take a look at how it performs. "
   ]
  },
  {
   "cell_type": "code",
   "execution_count": 29,
   "id": "7edcfa73",
   "metadata": {},
   "outputs": [],
   "source": [
    "# y_hat_test = logreg.predict(X_test)\n",
    "# y_hat_train = logreg.predict(X_train)"
   ]
  },
  {
   "cell_type": "code",
   "execution_count": 30,
   "id": "b99d7ff0",
   "metadata": {},
   "outputs": [],
   "source": [
    "# from sklearn.metrics import classification_report\n",
    "# print(classification_report(y_train, y_hat_train))"
   ]
  },
  {
   "cell_type": "code",
   "execution_count": 31,
   "id": "eb48609f",
   "metadata": {},
   "outputs": [],
   "source": [
    "# print(classification_report(y_test, y_hat_test))"
   ]
  },
  {
   "cell_type": "markdown",
   "id": "a942de1c",
   "metadata": {},
   "source": [
    "## 2 model"
   ]
  },
  {
   "cell_type": "code",
   "execution_count": 32,
   "id": "22eef365",
   "metadata": {},
   "outputs": [],
   "source": [
    "logreg = LogisticRegression(random_state = 20, class_weight = 'balanced')"
   ]
  },
  {
   "cell_type": "code",
   "execution_count": 33,
   "id": "342381ec",
   "metadata": {},
   "outputs": [
    {
     "data": {
      "text/plain": [
       "LogisticRegression(class_weight='balanced', random_state=20)"
      ]
     },
     "execution_count": 33,
     "metadata": {},
     "output_type": "execute_result"
    }
   ],
   "source": [
    "logreg.fit(X_train, y_train)"
   ]
  },
  {
   "cell_type": "code",
   "execution_count": 34,
   "id": "e85859a4",
   "metadata": {},
   "outputs": [
    {
     "name": "stdout",
     "output_type": "stream",
     "text": [
      "              precision    recall  f1-score   support\n",
      "\n",
      "           0       0.87      0.69      0.77     66150\n",
      "           1       0.46      0.73      0.56     23986\n",
      "\n",
      "    accuracy                           0.70     90136\n",
      "   macro avg       0.66      0.71      0.66     90136\n",
      "weighted avg       0.76      0.70      0.71     90136\n",
      "\n"
     ]
    }
   ],
   "source": [
    "y_hat_test = logreg.predict(X_test)\n",
    "y_hat_train = logreg.predict(X_train)\n",
    "print(classification_report(y_train, y_hat_train))"
   ]
  },
  {
   "cell_type": "code",
   "execution_count": 35,
   "id": "23c822ca",
   "metadata": {},
   "outputs": [
    {
     "name": "stdout",
     "output_type": "stream",
     "text": [
      "              precision    recall  f1-score   support\n",
      "\n",
      "           0       0.87      0.68      0.77     22051\n",
      "           1       0.45      0.73      0.56      7995\n",
      "\n",
      "    accuracy                           0.69     30046\n",
      "   macro avg       0.66      0.70      0.66     30046\n",
      "weighted avg       0.76      0.69      0.71     30046\n",
      "\n"
     ]
    }
   ],
   "source": [
    "print(classification_report(y_test, y_hat_test))"
   ]
  },
  {
   "cell_type": "markdown",
   "id": "67fd4a51",
   "metadata": {},
   "source": [
    "## 2 Naive_bayes Model"
   ]
  },
  {
   "cell_type": "code",
   "execution_count": 36,
   "id": "5133af4d",
   "metadata": {},
   "outputs": [],
   "source": [
    "# from scipy import stats\n",
    "# from sklearn.naive_bayes import MultinomialNB, GaussianNB\n",
    "# \n",
    "# from matplotlib import pyplot as plt\n",
    "# from sklearn.model_selection import train_test_split\n",
    "# from sklearn.metrics import plot_confusion_matrix\n",
    "# from sklearn.preprocessing import OneHotEncoder\n",
    "\n",
    "# %matplotlib inline"
   ]
  },
  {
   "cell_type": "markdown",
   "id": "47acbabc",
   "metadata": {},
   "source": [
    "## 2 KNN Model"
   ]
  },
  {
   "cell_type": "code",
   "execution_count": 37,
   "id": "47b3779e",
   "metadata": {},
   "outputs": [],
   "source": [
    "import pandas as pd\n",
    "import numpy as np\n",
    "\n",
    "\n",
    "\n",
    "\n",
    "from sklearn.metrics import f1_score, confusion_matrix, recall_score, precision_score, accuracy_score\n",
    "# from src.confusion import plot_confusion_matrix\n",
    "# from src.k_classify import predict_one\n",
    "# from src.plot_train import *\n",
    "# from src.euclid import *\n",
    "\n",
    "from sklearn import datasets\n",
    "from sklearn.preprocessing import StandardScaler, MinMaxScaler, LabelEncoder\n",
    "from sklearn.neighbors import KNeighborsClassifier, NearestNeighbors\n",
    "from sklearn.model_selection import train_test_split, KFold"
   ]
  },
  {
   "cell_type": "code",
   "execution_count": 38,
   "id": "7a8b8e29",
   "metadata": {},
   "outputs": [
    {
     "name": "stdout",
     "output_type": "stream",
     "text": [
      "Train set Accuracy at 1 is 0.9211524806958374  \n",
      "Test set Accuracy at 1 is 0.6827198295946216\n",
      "\n",
      "\n"
     ]
    }
   ],
   "source": [
    "from sklearn.neighbors import KNeighborsClassifier\n",
    "from sklearn import metrics\n",
    "\n",
    "for i in range(1,2):\n",
    "    \n",
    "    neigh=KNeighborsClassifier(n_neighbors = i).fit(X_train,y_train)\n",
    "    yhat = neigh.predict(X_test)\n",
    "    KNN_score=metrics.accuracy_score(y_test, yhat)\n",
    "    print(\"Train set Accuracy at {} is {}  \".format(i,metrics.accuracy_score(y_train, neigh.predict(X_train))))\n",
    "    print(\"Test set Accuracy at {} is {}\".format(i,KNN_score))\n",
    "    print(\"\\n\")"
   ]
  },
  {
   "cell_type": "markdown",
   "id": "ef2da1ea",
   "metadata": {},
   "source": [
    "Running Result:\n",
    "\n",
    "Train set Accuracy at 1 is 0.9211524806958374  \n",
    "Test set Accuracy at 1 is 0.6827198295946216\n",
    "\n",
    "\n",
    "Train set Accuracy at 2 is 0.8264955178840863  \n",
    "Test set Accuracy at 2 is 0.7313785528855754\n",
    "\n",
    "\n",
    "Train set Accuracy at 3 is 0.8343170320404721  \n",
    "Test set Accuracy at 3 is 0.7132064168275312\n",
    "\n",
    "\n",
    "Train set Accuracy at 4 is 0.8053607881423627  \n",
    "Test set Accuracy at 4 is 0.7398988218065633\n",
    "\n",
    "\n",
    "Train set Accuracy at 5 is 0.8097652436318452  \n",
    "Test set Accuracy at 5 is 0.7306463422751781\n",
    "\n",
    "\n",
    "Train set Accuracy at 6 is 0.7947434987130558  \n",
    "Test set Accuracy at 6 is 0.7419956067363376\n",
    "\n",
    "\n",
    "Train set Accuracy at 7 is 0.7957974616135617  \n",
    "Test set Accuracy at 7 is 0.7375357784730081\n",
    "\n",
    "\n",
    "Train set Accuracy at 8 is 0.786644625898642  \n",
    "Test set Accuracy at 8 is 0.7449577314783998\n",
    "\n",
    "\n",
    "Train set Accuracy at 9 is 0.7887969290849384  \n",
    "Test set Accuracy at 9 is 0.7446249084736737\n",
    "\n",
    "\n",
    "Train set Accuracy at 10 is 0.7830833407295642  \n",
    "Test set Accuracy at 10 is 0.7494175597417293\n",
    "\n",
    "\n",
    "Train set Accuracy at 11 is 0.7846254548681991  \n",
    "Test set Accuracy at 11 is 0.7463888703987219\n",
    "\n",
    "\n",
    "Train set Accuracy at 12 is 0.7795553385994497  \n",
    "Test set Accuracy at 12 is 0.7506822871596884\n",
    "\n",
    "\n",
    "Train set Accuracy at 13 is 0.7810974527380846  \n",
    "Test set Accuracy at 13 is 0.7510151101644146\n",
    "\n",
    "\n",
    "Train set Accuracy at 14 is 0.7762381290494365  \n",
    "Test set Accuracy at 14 is 0.753111895094189\n",
    "\n",
    "\n",
    "Train set Accuracy at 15 is 0.7788563947812195  \n",
    "Test set Accuracy at 15 is 0.7522798375823737\n",
    "\n",
    "\n",
    "Train set Accuracy at 16 is 0.7742411467116358  \n",
    "Test set Accuracy at 16 is 0.752845636690408\n",
    "\n",
    "\n",
    "Train set Accuracy at 17 is 0.7769370728676667  \n",
    "Test set Accuracy at 17 is 0.7514144977700858\n",
    "\n",
    "\n",
    "Train set Accuracy at 18 is 0.7728543534214964  \n",
    "Test set Accuracy at 18 is 0.7531451773946615\n",
    "\n",
    "\n",
    "Train set Accuracy at 19 is 0.7748402414129759  \n",
    "Test set Accuracy at 19 is 0.7531784596951341\n",
    "\n",
    "\n",
    "Train set Accuracy at 20 is 0.7713233336291826  \n",
    "Test set Accuracy at 20 is 0.7537109765026959\n",
    "\n",
    "\n",
    "Train set Accuracy at 21 is 0.7732648442353777  \n",
    "Test set Accuracy at 21 is 0.7524462490847368\n",
    "\n",
    "\n",
    "Train set Accuracy at 22 is 0.770391408538209  \n",
    "Test set Accuracy at 22 is 0.7525460959861545\n",
    "\n",
    "\n",
    "Train set Accuracy at 23 is 0.7719113339842016  \n",
    "Test set Accuracy at 23 is 0.7536776942022233\n",
    "\n",
    "\n",
    "Train set Accuracy at 24 is 0.7697479364515842  \n",
    "Test set Accuracy at 24 is 0.752845636690408"
   ]
  },
  {
   "cell_type": "code",
   "execution_count": 39,
   "id": "186a8a17",
   "metadata": {},
   "outputs": [],
   "source": [
    "# f, ax = plt.subplots()\n",
    "\n",
    "# sns.scatterplot(x = X[:,0], y = X[:,1], ax=ax, hue=y, palette='colorblind')\n",
    "# ax.get_legend()"
   ]
  },
  {
   "cell_type": "code",
   "execution_count": 40,
   "id": "9fe22773",
   "metadata": {},
   "outputs": [],
   "source": [
    "# # knn = KNeighborsClassifier(n_neighbors=3, metric='euclidean')\n",
    "# knn = KNeighborsClassifier()\n",
    "# knn.fit(X_train,y_train)\n",
    "# print(f\"training accuracy: {knn.score(X_train, y_train)}\")\n",
    "# print(f\"training accuracy: {knn.score(X_test, y_test)}\")\n",
    "\n",
    "# y_hat = knn.predict(X_test)\n",
    "\n",
    "# plot_confusion_matrix(confusion_matrix(y_test, y_hat), classes=['Perished', 'Survived'])"
   ]
  },
  {
   "cell_type": "code",
   "execution_count": 41,
   "id": "76bb43f2",
   "metadata": {},
   "outputs": [],
   "source": [
    "# print(f\"training accuracy: {knn.score(X_train, y_train)}\")\n",
    "# print(f\"training accuracy: {knn.score(X_test, y_test)}\")"
   ]
  },
  {
   "cell_type": "markdown",
   "id": "e6994adc",
   "metadata": {},
   "source": [
    "## 3 model Decision Tree"
   ]
  },
  {
   "cell_type": "code",
   "execution_count": 42,
   "id": "3754b0c4",
   "metadata": {},
   "outputs": [],
   "source": [
    "import seaborn as sns\n",
    "import matplotlib.pyplot as plt\n",
    "import pandas as pd\n",
    "from sklearn.tree import DecisionTreeClassifier\n",
    "from sklearn.preprocessing import LabelEncoder\n",
    "from sklearn.model_selection import train_test_split\n",
    "from sklearn.metrics import accuracy_score, plot_roc_curve, plot_confusion_matrix\n",
    "from sklearn.datasets import load_iris\n",
    "# For plotting the tree.\n",
    "from sklearn.tree import export_graphviz, plot_tree\n",
    "# from pydotplus import graph_from_dot_data\n",
    "from IPython.display import Image"
   ]
  },
  {
   "cell_type": "markdown",
   "id": "da7e8fcd",
   "metadata": {},
   "source": [
    "### Train the Model"
   ]
  },
  {
   "cell_type": "code",
   "execution_count": 43,
   "id": "76fe1de4",
   "metadata": {},
   "outputs": [
    {
     "data": {
      "text/plain": [
       "DecisionTreeClassifier()"
      ]
     },
     "execution_count": 43,
     "metadata": {},
     "output_type": "execute_result"
    }
   ],
   "source": [
    "dt = DecisionTreeClassifier()\n",
    "#min_sample_leaf, the most common stopping procedure is to use a minimum count on the number on the number of training instances assigned to each leaf node.\n",
    "dt.fit(X_train, y_train)"
   ]
  },
  {
   "cell_type": "markdown",
   "id": "a70bcf02",
   "metadata": {},
   "source": [
    "### Predictions and Evaluation"
   ]
  },
  {
   "cell_type": "code",
   "execution_count": 44,
   "id": "beef4f3e",
   "metadata": {},
   "outputs": [
    {
     "data": {
      "text/plain": [
       "array([0, 0, 0, ..., 0, 0, 0])"
      ]
     },
     "execution_count": 44,
     "metadata": {},
     "output_type": "execute_result"
    }
   ],
   "source": [
    "y_pred = dt.predict(X_test)\n",
    "y_pred"
   ]
  },
  {
   "cell_type": "code",
   "execution_count": 45,
   "id": "ea5bd0f9",
   "metadata": {},
   "outputs": [
    {
     "name": "stdout",
     "output_type": "stream",
     "text": [
      "Accuracy: 70.09585302536111\n"
     ]
    }
   ],
   "source": [
    "acc = accuracy_score(y_test, y_pred) * 100\n",
    "print(\"Accuracy: {0}\".format(acc))"
   ]
  },
  {
   "cell_type": "code",
   "execution_count": 46,
   "id": "b0ea1dbb",
   "metadata": {},
   "outputs": [
    {
     "data": {
      "text/plain": [
       "<sklearn.metrics._plot.confusion_matrix.ConfusionMatrixDisplay at 0x262327d9430>"
      ]
     },
     "execution_count": 46,
     "metadata": {},
     "output_type": "execute_result"
    },
    {
     "data": {
      "image/png": "[encoded data removed]",
      "text/plain": [
       "<Figure size 432x288 with 2 Axes>"
      ]
     },
     "metadata": {
      "needs_background": "light"
     },
     "output_type": "display_data"
    }
   ],
   "source": [
    "plot_confusion_matrix(dt, X_test, y_test)"
   ]
  },
  {
   "cell_type": "code",
   "execution_count": 47,
   "id": "5a49a4dd",
   "metadata": {},
   "outputs": [],
   "source": [
    "# f, ax = plt.subplots(figsize = (10, 10))\n",
    "# plot_tree(dt, ax = ax)"
   ]
  },
  {
   "cell_type": "markdown",
   "id": "a9fe8da7",
   "metadata": {},
   "source": [
    "### Feature Importances"
   ]
  },
  {
   "cell_type": "code",
   "execution_count": 48,
   "id": "4e76060a",
   "metadata": {},
   "outputs": [],
   "source": [
    "# let's create a dictionary of features and their importance values\n",
    "feat_dict= {}\n",
    "for col, val in sorted(zip(X_train.columns, dt.feature_importances_),key=lambda x:x[1],reverse=True):\n",
    "  feat_dict[col]=val"
   ]
  },
  {
   "cell_type": "code",
   "execution_count": 49,
   "id": "cd3a5d57",
   "metadata": {},
   "outputs": [],
   "source": [
    "feat_df = pd.DataFrame({'Feature':feat_dict.keys(),'Importance':feat_dict.values()})"
   ]
  },
  {
   "cell_type": "code",
   "execution_count": 50,
   "id": "82589b7a",
   "metadata": {},
   "outputs": [
    {
     "data": {
      "text/html": [
       "<div>\n",
       "<style scoped>\n",
       "    .dataframe tbody tr th:only-of-type {\n",
       "        vertical-align: middle;\n",
       "    }\n",
       "\n",
       "    .dataframe tbody tr th {\n",
       "        vertical-align: top;\n",
       "    }\n",
       "\n",
       "    .dataframe thead th {\n",
       "        text-align: right;\n",
       "    }\n",
       "</style>\n",
       "<table border=\"1\" class=\"dataframe\">\n",
       "  <thead>\n",
       "    <tr style=\"text-align: right;\">\n",
       "      <th></th>\n",
       "      <th>Feature</th>\n",
       "      <th>Importance</th>\n",
       "    </tr>\n",
       "  </thead>\n",
       "  <tbody>\n",
       "    <tr>\n",
       "      <th>0</th>\n",
       "      <td>age</td>\n",
       "      <td>0.292930</td>\n",
       "    </tr>\n",
       "    <tr>\n",
       "      <th>1</th>\n",
       "      <td>date_Difference</td>\n",
       "      <td>0.175877</td>\n",
       "    </tr>\n",
       "    <tr>\n",
       "      <th>2</th>\n",
       "      <td>covid_res</td>\n",
       "      <td>0.072136</td>\n",
       "    </tr>\n",
       "    <tr>\n",
       "      <th>3</th>\n",
       "      <td>contact_other_covid</td>\n",
       "      <td>0.053398</td>\n",
       "    </tr>\n",
       "    <tr>\n",
       "      <th>4</th>\n",
       "      <td>intubed</td>\n",
       "      <td>0.047127</td>\n",
       "    </tr>\n",
       "    <tr>\n",
       "      <th>5</th>\n",
       "      <td>hypertension</td>\n",
       "      <td>0.046948</td>\n",
       "    </tr>\n",
       "    <tr>\n",
       "      <th>6</th>\n",
       "      <td>obesity</td>\n",
       "      <td>0.045493</td>\n",
       "    </tr>\n",
       "    <tr>\n",
       "      <th>7</th>\n",
       "      <td>diabetes</td>\n",
       "      <td>0.040709</td>\n",
       "    </tr>\n",
       "    <tr>\n",
       "      <th>8</th>\n",
       "      <td>sex</td>\n",
       "      <td>0.038064</td>\n",
       "    </tr>\n",
       "    <tr>\n",
       "      <th>9</th>\n",
       "      <td>pneumonia</td>\n",
       "      <td>0.036825</td>\n",
       "    </tr>\n",
       "    <tr>\n",
       "      <th>10</th>\n",
       "      <td>tobacco</td>\n",
       "      <td>0.028679</td>\n",
       "    </tr>\n",
       "    <tr>\n",
       "      <th>11</th>\n",
       "      <td>other_disease</td>\n",
       "      <td>0.021341</td>\n",
       "    </tr>\n",
       "    <tr>\n",
       "      <th>12</th>\n",
       "      <td>icu</td>\n",
       "      <td>0.020318</td>\n",
       "    </tr>\n",
       "    <tr>\n",
       "      <th>13</th>\n",
       "      <td>cardiovascular</td>\n",
       "      <td>0.020259</td>\n",
       "    </tr>\n",
       "    <tr>\n",
       "      <th>14</th>\n",
       "      <td>copd</td>\n",
       "      <td>0.018695</td>\n",
       "    </tr>\n",
       "    <tr>\n",
       "      <th>15</th>\n",
       "      <td>renal_chronic</td>\n",
       "      <td>0.016346</td>\n",
       "    </tr>\n",
       "    <tr>\n",
       "      <th>16</th>\n",
       "      <td>inmsupr</td>\n",
       "      <td>0.013853</td>\n",
       "    </tr>\n",
       "    <tr>\n",
       "      <th>17</th>\n",
       "      <td>asthma</td>\n",
       "      <td>0.010188</td>\n",
       "    </tr>\n",
       "    <tr>\n",
       "      <th>18</th>\n",
       "      <td>pregnancy</td>\n",
       "      <td>0.000814</td>\n",
       "    </tr>\n",
       "    <tr>\n",
       "      <th>19</th>\n",
       "      <td>patient_type</td>\n",
       "      <td>0.000000</td>\n",
       "    </tr>\n",
       "  </tbody>\n",
       "</table>\n",
       "</div>"
      ],
      "text/plain": [
       "                Feature  Importance\n",
       "0                   age    0.292930\n",
       "1       date_Difference    0.175877\n",
       "2             covid_res    0.072136\n",
       "3   contact_other_covid    0.053398\n",
       "4               intubed    0.047127\n",
       "5          hypertension    0.046948\n",
       "6               obesity    0.045493\n",
       "7              diabetes    0.040709\n",
       "8                   sex    0.038064\n",
       "9             pneumonia    0.036825\n",
       "10              tobacco    0.028679\n",
       "11        other_disease    0.021341\n",
       "12                  icu    0.020318\n",
       "13       cardiovascular    0.020259\n",
       "14                 copd    0.018695\n",
       "15        renal_chronic    0.016346\n",
       "16              inmsupr    0.013853\n",
       "17               asthma    0.010188\n",
       "18            pregnancy    0.000814\n",
       "19         patient_type    0.000000"
      ]
     },
     "execution_count": 50,
     "metadata": {},
     "output_type": "execute_result"
    }
   ],
   "source": [
    "feat_df"
   ]
  },
  {
   "cell_type": "code",
   "execution_count": null,
   "id": "42b5d670",
   "metadata": {},
   "outputs": [],
   "source": []
  }
 ],
 "metadata": {
  "kernelspec": {
   "display_name": "gputest",
   "language": "python",
   "name": "gputest"
  },
  "language_info": {
   "codemirror_mode": {
    "name": "ipython",
    "version": 3
   },
   "file_extension": ".py",
   "mimetype": "text/x-python",
   "name": "python",
   "nbconvert_exporter": "python",
   "pygments_lexer": "ipython3",
   "version": "3.9.2"
  },
  "toc": {
   "base_numbering": 1,
   "nav_menu": {},
   "number_sections": true,
   "sideBar": true,
   "skip_h1_title": false,
   "title_cell": "Table of Contents",
   "title_sidebar": "Contents",
   "toc_cell": false,
   "toc_position": {
    "height": "calc(100% - 180px)",
    "left": "10px",
    "top": "150px",
    "width": "165px"
   },
   "toc_section_display": true,
   "toc_window_display": false
  }
 },
 "nbformat": 4,
 "nbformat_minor": 5
}
